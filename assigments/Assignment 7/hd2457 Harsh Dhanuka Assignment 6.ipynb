{
 "cells": [
  {
   "cell_type": "markdown",
   "metadata": {},
   "source": [
    "# Applied Text and Natural Language Analytics, Fall 2020\n",
    "\n",
    "### Assignment 6\n",
    "\n",
    "Submitted by - \n",
    "Harsh Dhanuka, hd2457"
   ]
  },
  {
   "cell_type": "code",
   "execution_count": 1,
   "metadata": {},
   "outputs": [],
   "source": [
    "import json\n",
    "import nltk\n",
    "\n",
    "import gensim, operator\n",
    "from scipy import spatial\n",
    "import numpy as np\n",
    "from gensim.models import KeyedVectors\n",
    "\n",
    "import warnings\n",
    "warnings.filterwarnings(\"ignore\")\n",
    "\n",
    "import numpy as np\n",
    "import pandas as pd\n",
    "pd.set_option(\"display.max_rows\", 100)"
   ]
  },
  {
   "cell_type": "markdown",
   "metadata": {},
   "source": [
    "# 1. Write a Python program based on the provided Class Exercise, which:"
   ]
  },
  {
   "cell_type": "markdown",
   "metadata": {},
   "source": [
    "## 1.1. Loads the downloaded pre-trained Google Word2Vec model from your computer"
   ]
  },
  {
   "cell_type": "code",
   "execution_count": 2,
   "metadata": {},
   "outputs": [],
   "source": [
    "model_path = '/Users/harshdhanuka/Desktop/Columbia Class Matter/SEM 3/5430 Applied Text NLP/Assignment 6/'"
   ]
  },
  {
   "cell_type": "markdown",
   "metadata": {},
   "source": [
    "#### Import the word2vec pre-trained model"
   ]
  },
  {
   "cell_type": "code",
   "execution_count": 3,
   "metadata": {},
   "outputs": [
    {
     "name": "stdout",
     "output_type": "stream",
     "text": [
      "Loading Word2Vec model...\n",
      "Finished loading Word2Vec model...\n"
     ]
    }
   ],
   "source": [
    "def load_wordvec_model(modelName, modelFile, flagBin):\n",
    "    print('Loading ' + modelName + ' model...')\n",
    "    model = KeyedVectors.load_word2vec_format(model_path + modelFile, binary=flagBin)\n",
    "    print('Finished loading ' + modelName + ' model...')\n",
    "    return model\n",
    "\n",
    "model_word2vec = load_wordvec_model('Word2Vec', 'GoogleNews-vectors-negative300.bin.gz', True)"
   ]
  },
  {
   "cell_type": "code",
   "execution_count": 4,
   "metadata": {},
   "outputs": [
    {
     "data": {
      "text/plain": [
       "300"
      ]
     },
     "execution_count": 4,
     "metadata": {},
     "output_type": "execute_result"
    }
   ],
   "source": [
    "model_word2vec.vector_size"
   ]
  },
  {
   "cell_type": "markdown",
   "metadata": {},
   "source": [
    "## 1.2. Loads your previously obtained dataset of Webhose news articles\n",
    "\n",
    "I will be using the `Netflix` dataset"
   ]
  },
  {
   "cell_type": "code",
   "execution_count": 5,
   "metadata": {},
   "outputs": [],
   "source": [
    "file = '/Users/harshdhanuka/Desktop/Columbia Class Matter/SEM 3/5430 Applied Text NLP/Assignment 6/webhose_netflix.json'\n",
    "\n",
    "json_data=open(file).readlines()\n",
    "newsfeeds = []\n",
    "\n",
    "for line in json_data:\n",
    "    newsfeeds.append(json.loads(line))"
   ]
  },
  {
   "cell_type": "code",
   "execution_count": 6,
   "metadata": {},
   "outputs": [
    {
     "data": {
      "text/html": [
       "<div>\n",
       "<style scoped>\n",
       "    .dataframe tbody tr th:only-of-type {\n",
       "        vertical-align: middle;\n",
       "    }\n",
       "\n",
       "    .dataframe tbody tr th {\n",
       "        vertical-align: top;\n",
       "    }\n",
       "\n",
       "    .dataframe thead th {\n",
       "        text-align: right;\n",
       "    }\n",
       "</style>\n",
       "<table border=\"1\" class=\"dataframe\">\n",
       "  <thead>\n",
       "    <tr style=\"text-align: right;\">\n",
       "      <th></th>\n",
       "      <th>thread</th>\n",
       "      <th>uuid</th>\n",
       "      <th>url</th>\n",
       "      <th>ord_in_thread</th>\n",
       "      <th>parent_url</th>\n",
       "      <th>author</th>\n",
       "      <th>published</th>\n",
       "      <th>title</th>\n",
       "      <th>text</th>\n",
       "      <th>highlightText</th>\n",
       "      <th>highlightTitle</th>\n",
       "      <th>highlightThreadTitle</th>\n",
       "      <th>language</th>\n",
       "      <th>external_links</th>\n",
       "      <th>external_images</th>\n",
       "      <th>entities</th>\n",
       "      <th>rating</th>\n",
       "      <th>crawled</th>\n",
       "    </tr>\n",
       "  </thead>\n",
       "  <tbody>\n",
       "    <tr>\n",
       "      <td>0</td>\n",
       "      <td>{'uuid': 'f890670c1406310226c8e9420a798d81420c...</td>\n",
       "      <td>f890670c1406310226c8e9420a798d81420c5a96</td>\n",
       "      <td>http://omgili.com/ri/.wHSUbtEfZSCvFgWhG.N__Y_k...</td>\n",
       "      <td>0</td>\n",
       "      <td>None</td>\n",
       "      <td>stuff.co.nz</td>\n",
       "      <td>2020-06-03T22:49:00.000+03:00</td>\n",
       "      <td>13 Reasons Why: The popular Netflix show's cre...</td>\n",
       "      <td>The controversial 13 Reasons Why is returning ...</td>\n",
       "      <td></td>\n",
       "      <td></td>\n",
       "      <td></td>\n",
       "      <td>english</td>\n",
       "      <td>[]</td>\n",
       "      <td>[]</td>\n",
       "      <td>{'persons': [{'name': 'hannah baker', 'sentime...</td>\n",
       "      <td>None</td>\n",
       "      <td>2020-06-03T05:55:53.024+03:00</td>\n",
       "    </tr>\n",
       "  </tbody>\n",
       "</table>\n",
       "</div>"
      ],
      "text/plain": [
       "                                              thread  \\\n",
       "0  {'uuid': 'f890670c1406310226c8e9420a798d81420c...   \n",
       "\n",
       "                                       uuid  \\\n",
       "0  f890670c1406310226c8e9420a798d81420c5a96   \n",
       "\n",
       "                                                 url  ord_in_thread  \\\n",
       "0  http://omgili.com/ri/.wHSUbtEfZSCvFgWhG.N__Y_k...              0   \n",
       "\n",
       "  parent_url       author                      published  \\\n",
       "0       None  stuff.co.nz  2020-06-03T22:49:00.000+03:00   \n",
       "\n",
       "                                               title  \\\n",
       "0  13 Reasons Why: The popular Netflix show's cre...   \n",
       "\n",
       "                                                text highlightText  \\\n",
       "0  The controversial 13 Reasons Why is returning ...                 \n",
       "\n",
       "  highlightTitle highlightThreadTitle language external_links external_images  \\\n",
       "0                                      english             []              []   \n",
       "\n",
       "                                            entities rating  \\\n",
       "0  {'persons': [{'name': 'hannah baker', 'sentime...   None   \n",
       "\n",
       "                         crawled  \n",
       "0  2020-06-03T05:55:53.024+03:00  "
      ]
     },
     "execution_count": 6,
     "metadata": {},
     "output_type": "execute_result"
    }
   ],
   "source": [
    "df = pd.DataFrame.from_dict(newsfeeds)\n",
    "df.head(1)"
   ]
  },
  {
   "cell_type": "code",
   "execution_count": 7,
   "metadata": {},
   "outputs": [
    {
     "name": "stdout",
     "output_type": "stream",
     "text": [
      " \n",
      "A sample title in the list is: \n",
      "Judge gives control of 'Tiger King' Joe Exotic's zoo to Carole Baskin\n",
      " \n",
      "The total number of titles are:\n"
     ]
    },
    {
     "data": {
      "text/plain": [
       "25288"
      ]
     },
     "execution_count": 7,
     "metadata": {},
     "output_type": "execute_result"
    }
   ],
   "source": [
    "titles = df['title']\n",
    "\n",
    "# Create a list of all titles\n",
    "titles_list = [title for title in titles]\n",
    "print(\" \")\n",
    "print(\"A sample title in the list is: \")\n",
    "print(titles_list[1])\n",
    "print(\" \")\n",
    "print(\"The total number of titles are:\")\n",
    "len(titles_list)"
   ]
  },
  {
   "cell_type": "markdown",
   "metadata": {},
   "source": [
    "## 1.3. For any one selected article title from the dataset, finds 100 most similar titles based on Word2Vec similarity, prints those titles in a descending order of similarity scores.\n",
    "\n",
    "The title I select to find the 100 most similar titles is title 9."
   ]
  },
  {
   "cell_type": "code",
   "execution_count": 8,
   "metadata": {},
   "outputs": [
    {
     "data": {
      "text/plain": [
       "'All about Netflix’s sci-fi television shows we love'"
      ]
     },
     "execution_count": 8,
     "metadata": {},
     "output_type": "execute_result"
    }
   ],
   "source": [
    "title_check = titles_list[9]\n",
    "title_check"
   ]
  },
  {
   "cell_type": "code",
   "execution_count": 9,
   "metadata": {},
   "outputs": [],
   "source": [
    "while(\"\" in titles_list): \n",
    "    titles_list.remove(\"\") "
   ]
  },
  {
   "cell_type": "code",
   "execution_count": 10,
   "metadata": {},
   "outputs": [
    {
     "name": "stdout",
     "output_type": "stream",
     "text": [
      "The total number of titles are:\n"
     ]
    },
    {
     "data": {
      "text/plain": [
       "25287"
      ]
     },
     "execution_count": 10,
     "metadata": {},
     "output_type": "execute_result"
    }
   ],
   "source": [
    "print(\"The total number of titles are:\")\n",
    "len(titles_list)"
   ]
  },
  {
   "cell_type": "markdown",
   "metadata": {},
   "source": [
    "#### Check if the input words are present in Word2vec model vocabulary"
   ]
  },
  {
   "cell_type": "code",
   "execution_count": 11,
   "metadata": {},
   "outputs": [],
   "source": [
    "def vocab_check(vectors, words):\n",
    "    \n",
    "    output = list()\n",
    "    for word in words:\n",
    "        if word in vectors.vocab:\n",
    "            output.append(word.strip())\n",
    "            \n",
    "    return output"
   ]
  },
  {
   "cell_type": "markdown",
   "metadata": {},
   "source": [
    "#### Calculate similarity between two strings using an input Word Vector Model"
   ]
  },
  {
   "cell_type": "code",
   "execution_count": 12,
   "metadata": {},
   "outputs": [],
   "source": [
    "# function calculates similarity between two strings using a particular word vector model\n",
    "def calc_similarity(input1, input2, vectors):\n",
    "    s1words = set(vocab_check(vectors, input1.split()))\n",
    "    s2words = set(vocab_check(vectors, input2.split()))\n",
    "    \n",
    "    output = vectors.n_similarity(s1words, s2words)\n",
    "    return output"
   ]
  },
  {
   "cell_type": "markdown",
   "metadata": {},
   "source": [
    "#### Calculate the scores, for all titles, with reference to title 9 we selected\n",
    "\n",
    "I will run a try except catch, to run the scores for all the titles first, and then, sort and extract the top 100."
   ]
  },
  {
   "cell_type": "code",
   "execution_count": 13,
   "metadata": {},
   "outputs": [],
   "source": [
    "similarity_list = []\n",
    "\n",
    "for i in titles_list:\n",
    "    try:\n",
    "        similarity_score = calc_similarity(title_check, i, model_word2vec)\n",
    "        similarity_list.append(similarity_score)\n",
    "    except:\n",
    "        #similarity_list.append(0, 'ERROR ZERO DIV '+i)\n",
    "        similarity_list.append(0)"
   ]
  },
  {
   "cell_type": "markdown",
   "metadata": {},
   "source": [
    "#### Print the 100 top most similar articles"
   ]
  },
  {
   "cell_type": "code",
   "execution_count": 14,
   "metadata": {},
   "outputs": [
    {
     "name": "stdout",
     "output_type": "stream",
     "text": [
      "                                                   Title  Similarity\n",
      "23039  What are you watching on TV during lockdown? W...    0.775924\n",
      "15201  What is CBS All Access? What you need to know ...    0.765988\n",
      "18726  I know this much is true: you need to watch th...    0.763972\n",
      "20053  Will reality shows take over the TV industry? ...    0.763933\n",
      "9792        7 great TV shows you can watch this weekend,    0.752362\n",
      "4763          Everything you need to know about Acorn TV    0.744234\n",
      "20914        7 great TV shows you can watch this weekend    0.744012\n",
      "5398   HBO Max: Everything you need to know about AT&...    0.743869\n",
      "5384   HBO Max: Everything you need to know about AT&...    0.742667\n",
      "22864   Apocalyptic movies show what we worry about most    0.736770\n",
      "22616   Apocalyptic movies show what we worry about most    0.736770\n",
      "24878  Joanna Lumley: ‘I adore Gogglebox but I’d be h...    0.735039\n",
      "24939  Joanna Lumley: ‘I adore Gogglebox but I’d be h...    0.735039\n",
      "12081  BBC Together lets you watch TV shows or movies...    0.730477\n",
      "6421   HBO Max: Everything you need to know about AT&...    0.730294\n",
      "21914  18 shows every '90s kid loved that you can str...    0.727230\n",
      "21861  18 shows every '90s kid loved that you can str...    0.727230\n",
      "12168          Netflix: teenage TV series of love to see    0.726788\n",
      "2694   John McEnroe narrating 'Never Have I Ever' is ...    0.723735\n",
      "22103  The top 19 TV shows people have started watchi...    0.721195\n",
      "22053  The top 19 TV shows people have started watchi...    0.721195\n",
      "6500   HBO Max: Everything you need to know about AT&...    0.718304\n",
      "15145  White Lines review: the only TV show you need ...    0.717946\n",
      "4898   HBO Max: Everything you need to know about AT&...    0.717928\n",
      "5810   HBO Max: Everything you need to know about AT&...    0.717928\n",
      "4366   HBO Max: Everything you need to know about AT&...    0.717928\n",
      "4367   HBO Max: Everything you need to know about AT&...    0.717928\n",
      "4361   HBO Max: Everything you need to know about AT&...    0.717928\n",
      "4362   HBO Max: Everything you need to know about AT&...    0.717928\n",
      "4363   HBO Max: Everything you need to know about AT&...    0.717928\n",
      "4368   HBO Max: Everything you need to know about AT&...    0.717928\n",
      "7592   TV Guide: 26 of the best shows to watch this week    0.714755\n",
      "4534   Everything you need to know about HBO Max pric...    0.714480\n",
      "4533   Everything you need to know about HBO Max pric...    0.714480\n",
      "4535   Everything you need to know about HBO Max pric...    0.714480\n",
      "18258  Looking for free streaming services? Here are ...    0.713183\n",
      "4939   HBO Max is live: Price, shows and everything y...    0.712619\n",
      "20863  ESPN+: Everything you need to know about ESPN'...    0.712076\n",
      "4990   HBO Max: What you need to know about the new s...    0.710572\n",
      "24899  Netflix’s ‘The Half of It,’ ‘Planet of the Hum...    0.709735\n",
      "22885  From ‘Never Have I Ever’ to ‘Dawson’s Creek,’ ...    0.709200\n",
      "22138  Netflix's Last Dance and why I love sports sto...    0.709146\n",
      "3965   HBO Max is here: Everything you need to know a...    0.708718\n",
      "15877  'Can you get HBO without cable?': How to watch...    0.708339\n",
      "3452   This new Netflix series about healthcare worke...    0.707628\n",
      "5415       What parents need to know about recent movies    0.707121\n",
      "23550  All you need to know about Shira Haas: star of...    0.706415\n",
      "1293   The best historical TV shows and films to stre...    0.705796\n",
      "15003  What to watch on Netflix: 10 surprisingly good...    0.705355\n",
      "25020  All the hottest shows on Netflix everyone is w...    0.704874\n",
      "3912   TV Review: Netflix’s ‘Space Force’ isn’t bad, ...    0.703295\n",
      "9045   What we love about Netflix’s ‘Blood & Water’ –...    0.702158\n",
      "3247   Netflix tips for the weekend: These movies and...    0.702021\n",
      "3248   Netflix tips for the weekend: These movies and...    0.702021\n",
      "4052   Disney Plus Hotstar: Everything you need to kn...    0.701968\n",
      "5273   What you need to know about the hyped Xiaomi M...    0.700901\n",
      "10376  What we know about the future of BBC Three and...    0.700805\n",
      "10186  What we know about the future of BBC Three and...    0.700805\n",
      "9927   What we know about the future of BBC Three and...    0.700805\n",
      "22390  TV guide: the best new shows to watch and stre...    0.699772\n",
      "11324  Why reality TV and unscripted shows have an ad...    0.698856\n",
      "25021  All the hottest shows on Netflix everyone is w...    0.698542\n",
      "25019  All the hottest shows on Netflix everyone is w...    0.698542\n",
      "13723  What to watch after you've watched everything ...    0.698324\n",
      "5649   ‘Magic for Humans’ and 4 more TV shows to watc...    0.697895\n",
      "24789      The 100 greatest British TV shows of all time    0.697634\n",
      "18297  12 of the best LGBTQ shows you can watch right...    0.696296\n",
      "21786     TV shows set in Connecticut you can stream now    0.695293\n",
      "22092     TV shows set in Connecticut you can stream now    0.695293\n",
      "3483   ‘Never Have I Ever:’ why you should watch this...    0.693814\n",
      "15924  'Can you get HBO without cable?': How to watch...    0.693234\n",
      "15894  'Can you get HBO without cable?': How to watch...    0.693234\n",
      "16069  Netflix's Snowpiercer TV show trailer is here ...    0.692752\n",
      "12261     BBC Together lets you watch shows with friends    0.692508\n",
      "11756     BBC Together lets you watch shows with friends    0.692508\n",
      "5405   HBO Max is here: Everything you need to know a...    0.692003\n",
      "4549   HBO Max is here: Everything you need to know a...    0.692003\n",
      "557    Here are the 10 new and returning shows everyo...    0.690967\n",
      "1454   APCP We Are Ready shows how covid-19 protocols...    0.689874\n",
      "17689  Binge-watched Normal People? Conversations Wit...    0.689360\n",
      "2916   What to watch on Netflix and TV in June: Top 1...    0.688633\n",
      "23383     What is ESPN Plus? Everything you need to know    0.687918\n",
      "19217   Everything you need to know about ‘Extraction 2’    0.687677\n",
      "5668   HBO Max June 2020 lineup: All the new shows an...    0.686872\n",
      "16801  The very best Normal People-vibe TV shows to f...    0.684975\n",
      "18464  What you need to know about the S&P/ASX 200 today    0.684557\n",
      "23478  9 new TV shows and movies on Netflix, Hulu, HB...    0.684410\n",
      "558    Here are the 10 new and returning shows everyo...    0.683158\n",
      "2915   What to watch on Netflix and TV in June: Top 1...    0.683120\n",
      "18331  The best comedies on Netflix we all need in ou...    0.682691\n",
      "13901  What we know so far about third season of Netf...    0.682180\n",
      "18308  The 16 best music movies, biopics, and documen...    0.681919\n",
      "18334  The 16 best music movies, biopics, and documen...    0.681919\n",
      "2226   Netflix’s Space Force: Everything we know abou...    0.681570\n",
      "22167  Never Have I Ever's Paxton has Netflix fans sw...    0.680312\n",
      "18729  The 5 TV shows you need to watch before isolat...    0.680094\n",
      "21821  'Love Is Blind' star Giannina Gibelli says she...    0.679453\n",
      "16430  Celebrities keep getting interrupted by their ...    0.679381\n",
      "22657  'Black Mirror' creator thinks we need a break ...    0.678566\n",
      "5014   12 things cord-cutters (and everyone else) sho...    0.677995\n"
     ]
    }
   ],
   "source": [
    "df = pd.DataFrame(list(zip(titles_list, similarity_list)),columns =['Title', 'Similarity'])\n",
    "most_similar = df.sort_values(['Similarity'], ascending=0)\n",
    "print(most_similar[1:101])\n",
    "\n",
    "# the first entry will be the same article with a score of 1.0, \n",
    "# so I will print from 1 to 101, instead of 0 to 100"
   ]
  },
  {
   "cell_type": "markdown",
   "metadata": {},
   "source": [
    "# 2. Write a Pyspark program based on the other provided Class Exercise, which:"
   ]
  },
  {
   "cell_type": "markdown",
   "metadata": {},
   "source": [
    "## 2.1. Loads your previously obtained dataset of Webhose news articles into a Spark dataframe"
   ]
  },
  {
   "cell_type": "code",
   "execution_count": 15,
   "metadata": {},
   "outputs": [
    {
     "name": "stdout",
     "output_type": "stream",
     "text": [
      "Using Apache Spark Version 3.0.1\n"
     ]
    }
   ],
   "source": [
    "from pyspark import SparkContext\n",
    "from pyspark.sql import SQLContext\n",
    "sc = SparkContext() \n",
    "sqlContext = SQLContext(sc)\n",
    "from pyspark.mllib.linalg import Vector, Vectors\n",
    "from pyspark.mllib.clustering import LDA, LDAModel\n",
    "from nltk.stem.wordnet import WordNetLemmatizer\n",
    "from pyspark.ml.feature import RegexTokenizer, StopWordsRemover, Word2Vec\n",
    "\n",
    "print(\"Using Apache Spark Version\", sc.version)"
   ]
  },
  {
   "cell_type": "markdown",
   "metadata": {},
   "source": [
    "#### Read in Crunchbase Open Data Map into Spark DataFrame\n",
    "\n",
    "I  will load the `Netflix` dataset into the spark df "
   ]
  },
  {
   "cell_type": "code",
   "execution_count": 16,
   "metadata": {},
   "outputs": [
    {
     "data": {
      "text/plain": [
       "25288"
      ]
     },
     "execution_count": 16,
     "metadata": {},
     "output_type": "execute_result"
    }
   ],
   "source": [
    "crunchbase_df = sqlContext.read.options(inferSchema='True',delimiter=',',header='True') \\\n",
    "                               .json(\"webhose_netflix.json\")\n",
    "# Check length\n",
    "crunchbase_df.count()"
   ]
  },
  {
   "cell_type": "code",
   "execution_count": 17,
   "metadata": {},
   "outputs": [
    {
     "name": "stdout",
     "output_type": "stream",
     "text": [
      "+-----------+--------------------+--------------------+---------------+--------------+-------------+--------------------+--------------+--------+-------------+----------+--------------------+------+--------------------+--------------------+--------------------+--------------------+--------------------+\n",
      "|     author|             crawled|            entities|external_images|external_links|highlightText|highlightThreadTitle|highlightTitle|language|ord_in_thread|parent_url|           published|rating|                text|              thread|               title|                 url|                uuid|\n",
      "+-----------+--------------------+--------------------+---------------+--------------+-------------+--------------------+--------------+--------+-------------+----------+--------------------+------+--------------------+--------------------+--------------------+--------------------+--------------------+\n",
      "|stuff.co.nz|2020-06-03T05:55:...|[[], [[netflix, n...|             []|            []|             |                    |              | english|            0|      null|2020-06-03T22:49:...|  null|The controversial...|[NZ, 3433, https:...|13 Reasons Why: T...|http://omgili.com...|f890670c140631022...|\n",
      "|stuff.co.nz|2020-06-02T23:34:...|[[[oklahoma, none...|             []|            []|             |                    |              | english|            0|      null|2020-06-03T16:27:...|  null|A federal judge i...|[NZ, 3433, https:...|Judge gives contr...|http://omgili.com...|f1da1d6c5ddf6b095...|\n",
      "+-----------+--------------------+--------------------+---------------+--------------+-------------+--------------------+--------------+--------+-------------+----------+--------------------+------+--------------------+--------------------+--------------------+--------------------+--------------------+\n",
      "only showing top 2 rows\n",
      "\n"
     ]
    }
   ],
   "source": [
    "# Show first 2 rows\n",
    "crunchbase_df.show(2)"
   ]
  },
  {
   "cell_type": "markdown",
   "metadata": {},
   "source": [
    "#### Filter out empty descriptions from the dataframe\n",
    "\n",
    "As per the given columms, the article titles are contained in the `title` column.\n",
    "So, I will be extracting the required `uuid` and the `title` columns for my analysis. "
   ]
  },
  {
   "cell_type": "code",
   "execution_count": 18,
   "metadata": {},
   "outputs": [
    {
     "data": {
      "text/plain": [
       "25287"
      ]
     },
     "execution_count": 18,
     "metadata": {},
     "output_type": "execute_result"
    }
   ],
   "source": [
    "crunchbase_df = crunchbase_df.select('uuid','title') \\\n",
    "                             .filter('title != \"\"')\n",
    "crunchbase_df.count()\n",
    "\n",
    "# See that it filters out 1 blank row"
   ]
  },
  {
   "cell_type": "code",
   "execution_count": 19,
   "metadata": {},
   "outputs": [
    {
     "name": "stdout",
     "output_type": "stream",
     "text": [
      "+--------------------+--------------------+\n",
      "|                uuid|               title|\n",
      "+--------------------+--------------------+\n",
      "|f890670c140631022...|13 Reasons Why: T...|\n",
      "|f1da1d6c5ddf6b095...|Judge gives contr...|\n",
      "|f431c194e4eddacdd...|A TV reboot of Bo...|\n",
      "|5930a57af03089f5d...|2-Pack: Ideaworks...|\n",
      "|050149948217f53d4...|Already-Obese Ave...|\n",
      "+--------------------+--------------------+\n",
      "only showing top 5 rows\n",
      "\n"
     ]
    }
   ],
   "source": [
    "# Show the first  5 rows\n",
    "crunchbase_df.show(5)"
   ]
  },
  {
   "cell_type": "markdown",
   "metadata": {},
   "source": [
    "## 2.2. Clean up and tokenize article bodies using the RegexTokenizer and Stopword remover functions provided in the Class Exercise\n",
    "\n",
    "In the further questions, I need to produce matching titles. Hence, I will be using the  `title` column for all my analysis and tokenization."
   ]
  },
  {
   "cell_type": "code",
   "execution_count": 20,
   "metadata": {},
   "outputs": [
    {
     "name": "stdout",
     "output_type": "stream",
     "text": [
      "+--------------------+--------------------+--------------------+--------------------+\n",
      "|                uuid|               title|              tokens|   tokens_sw_removed|\n",
      "+--------------------+--------------------+--------------------+--------------------+\n",
      "|f890670c140631022...|13 Reasons Why: T...|[13, reasons, why...|[13, reasons, pop...|\n",
      "|f1da1d6c5ddf6b095...|Judge gives contr...|[judge, gives, co...|[judge, gives, co...|\n",
      "|f431c194e4eddacdd...|A TV reboot of Bo...|[a, tv, reboot, o...|[tv, reboot, bong...|\n",
      "|5930a57af03089f5d...|2-Pack: Ideaworks...|[2, pack, ideawor...|[2, pack, ideawor...|\n",
      "|050149948217f53d4...|Already-Obese Ave...|[already, obese, ...|[already, obese, ...|\n",
      "+--------------------+--------------------+--------------------+--------------------+\n",
      "only showing top 5 rows\n",
      "\n"
     ]
    }
   ],
   "source": [
    "regextok = RegexTokenizer(gaps = False, pattern = '\\w+', \n",
    "                          inputCol = 'title', outputCol = 'tokens')\n",
    "stopwrmv = StopWordsRemover(inputCol = 'tokens', outputCol = 'tokens_sw_removed')\n",
    "\n",
    "crunchbase_df = regextok.transform(crunchbase_df)\n",
    "crunchbase_df = stopwrmv.transform(crunchbase_df)\n",
    "crunchbase_df.show(5)"
   ]
  },
  {
   "cell_type": "markdown",
   "metadata": {},
   "source": [
    "## 2.3. Trains a Word2Vec model based on the output column produced in step 2"
   ]
  },
  {
   "cell_type": "code",
   "execution_count": 21,
   "metadata": {},
   "outputs": [
    {
     "name": "stdout",
     "output_type": "stream",
     "text": [
      "+--------------------+--------------------+--------------------+\n",
      "|                uuid|               title|         wordvectors|\n",
      "+--------------------+--------------------+--------------------+\n",
      "|f890670c140631022...|13 Reasons Why: T...|[-0.0109111847588...|\n",
      "|f1da1d6c5ddf6b095...|Judge gives contr...|[-0.0933298821561...|\n",
      "|f431c194e4eddacdd...|A TV reboot of Bo...|[-0.0527028515511...|\n",
      "|5930a57af03089f5d...|2-Pack: Ideaworks...|[0.00304350345395...|\n",
      "|050149948217f53d4...|Already-Obese Ave...|[-0.0066364290192...|\n",
      "+--------------------+--------------------+--------------------+\n",
      "only showing top 5 rows\n",
      "\n"
     ]
    }
   ],
   "source": [
    "word2vec = Word2Vec(vectorSize = 300, minCount = 5, inputCol = 'tokens_sw_removed', outputCol = 'wordvectors')\n",
    "model = word2vec.fit(crunchbase_df)\n",
    "wordvectors = model.transform(crunchbase_df)\n",
    "\n",
    "#wordvectors.select('wordvectors').show(1, truncate = True)\n",
    "crunchbase_desc = wordvectors.select('uuid','title','wordvectors').rdd.toDF()\n",
    "crunchbase_desc.show(5)"
   ]
  },
  {
   "cell_type": "markdown",
   "metadata": {},
   "source": [
    "## 2.4. Implements any sample search query, as shown in Class Exercise, and produces matching article titles\n",
    "\n",
    "For this, I am using the sample query from the link: https://www.forbes.com/sites/forbescommunicationscouncil/2020/10/20/your-content-marketing-should-look-more-like-netflix-not-websters/#235aa6fe70ca \n",
    "\n",
    "The sample article title is `Your Content Marketing Should Look More Like Netflix, Not Webster's`"
   ]
  },
  {
   "cell_type": "code",
   "execution_count": 22,
   "metadata": {},
   "outputs": [],
   "source": [
    "chunk = crunchbase_desc.take(30000)"
   ]
  },
  {
   "cell_type": "code",
   "execution_count": 23,
   "metadata": {},
   "outputs": [],
   "source": [
    "SEARCH_QUERY = \"Your Content Marketing Should Look More Like Netflix, Not Webster's\""
   ]
  },
  {
   "cell_type": "code",
   "execution_count": 24,
   "metadata": {},
   "outputs": [
    {
     "name": "stdout",
     "output_type": "stream",
     "text": [
      "+-----+--------------------+--------------------+--------------------+\n",
      "|index|               title|              tokens|   tokens_sw_removed|\n",
      "+-----+--------------------+--------------------+--------------------+\n",
      "|    1|Your Content Mark...|[your, content, m...|[content, marketi...|\n",
      "+-----+--------------------+--------------------+--------------------+\n",
      "\n"
     ]
    }
   ],
   "source": [
    "query_df  = sc.parallelize([(1,SEARCH_QUERY)]).toDF(['index','title'])\n",
    "query_tok = regextok.transform(query_df)\n",
    "query_swr = stopwrmv.transform(query_tok)\n",
    "query_swr.show()\n",
    "query_vec = model.transform(query_swr)\n",
    "query_vec = query_vec.select('wordvectors').collect()[0][0]\n",
    "#query_vec"
   ]
  },
  {
   "cell_type": "code",
   "execution_count": 25,
   "metadata": {},
   "outputs": [],
   "source": [
    "def cossim(v1, v2): \n",
    "    return np.dot(v1, v2) / np.sqrt(np.dot(v1, v1)) / (np.sqrt(np.dot(v2, v2))+.1)"
   ]
  },
  {
   "cell_type": "code",
   "execution_count": 26,
   "metadata": {},
   "outputs": [
    {
     "name": "stdout",
     "output_type": "stream",
     "text": [
      " \n",
      "The top 50 matching articles and their similarity scores are as follows:\n",
      " \n",
      "+----------------------------------------+----------------------------------------------------------------------------------------------------------+------------------+\n",
      "|uuid                                    |title                                                                                                     |similarity        |\n",
      "+----------------------------------------+----------------------------------------------------------------------------------------------------------+------------------+\n",
      "|f3e088f5ad6f18f29520f7a9f515c651e2506f92|A Look Into Netflix's Price Over Earnings                                                                 |0.7900621327159819|\n",
      "|0cd289d4d57d56148f4f24c46d18a9a827cfee81|Movies That You Should Look Out For On Netflix                                                            |0.7736310926125574|\n",
      "|e7878727120623bb26a5984fe237ee9dca34dc80|PTC- Take closer look, parents, at Netflix programs                                                       |0.751221916952033 |\n",
      "|396dee28d09b2c9a438ea3bfe9eca6ef19a50ed4|Netflix email re deleting account - plus how to host Netflix Party                                        |0.7435605206562845|\n",
      "|07e985c4a3ddfdb3e48f5db60f21305d77677b3c|Biggest Netflix movies - what is the most-watched Netflix movie?                                          |0.7334983515620171|\n",
      "|9097b06337a8707d464efaf33d83ee62fb558089|What's Coming To Netflix This Weekend                                                                     |0.7301492837216674|\n",
      "|8bea89b43aec0f9ef2ac3903210d88fc2e49a5e0|Netflix Originals Based on Books | Netflix                                                                |0.7240565659699065|\n",
      "|a8dc1b065da8524a34ce5fba26f9c1cd61dec2af|Netflix Originals Based On Books | Netflix                                                                |0.7240565659699065|\n",
      "|1c694003286205b73c1564d25975b4e90d470e34|All Features of Netflix Explained | Use Netflix Efficiently                                               |0.7210041284319537|\n",
      "|69e90ca2763443d99246c2db958c536ec7ed8582|TeaTV Alternative Netflix - What is Netflix and How to get Netflix for free                               |0.7144614606614522|\n",
      "|c2d422ff35ff9550360d5b4e631cf79da75c5cb8|Cursed is Coming to Netflix                                                                               |0.7144342876788705|\n",
      "|728150d3298c02e2385e21a3863e03df506fa484|Netflix’s “You” and what it means to be human                                                             |0.713610683066369 |\n",
      "|76ff8b97ba4680729c08f7d4fc7e3d7705e6bdd0|Does Netflix Offer a Free Trial? How Long Is It?                                                          |0.7130640987866931|\n",
      "|f468b87f4c506df68baae8a69bb0a7da7563ce04|How to Watch Netflix in Indonesia? Unblock Netflix.                                                       |0.7093730425923611|\n",
      "|5c31673548313c0c13dfa81842bb9d5fdef57253|FIRST LOOK: “Cursed” – Coming Summer 2020 To Netflix                                                      |0.7090451997350058|\n",
      "|b2632277cd05d76913b97a2af64139b8b3ddf104|What's Coming To Netflix And Stan This Weekend                                                            |0.7082145989257577|\n",
      "|646dc4cae8a8398ea3fa3fa5462c1a16828927ab|How To Watch Netflix without Restrictions?                                                                |0.7059526373816636|\n",
      "|7159edc7af1e4abacc9a8c2e4ce149b5ea925319|Eric Cantona revives classic Manchester United look for Netflix's Inhuman Resources                       |0.705045956107049 |\n",
      "|ba1c1a0e9fc359d6541d37ca4efe496aeabd2e6a|LOOK: ‘The Babysitter’s Club’ is Coming to Netflix                                                        |0.7042070072441842|\n",
      "|5a58bb503102335ad6ac0bc92c223795c1a20e02|Netflix’s Eurovision Photos Tease Over the Top Performances                                               |0.7013942275357742|\n",
      "|447dc64438c42e5533c6edbd8a6b15c248f634cd|Here is what is being added to Netflix this June!                                                         |0.6993666698653912|\n",
      "|d33ee072b01b0a863bb5b6b84a2fd1149715996e|How Top Streamers Stack Up Against Netflix | Chart                                                        |0.6986710856709286|\n",
      "|d97395d28c41b3e972e8b368bdcb4302f73bffa8|AWARD-WINNING FILIPINO SHOWS ARE COMING TO NETFLIX                                                        |0.697787258745867 |\n",
      "|5f0498f768b16f965e13171d6658e0737dd949d8|Will Netflix's The Platform get a sequel?                                                                 |0.6961982543194803|\n",
      "|be722e580394ced13c808f76eb7ae4d84d56ee26|How to Change Netflix Download Location on PC                                                             |0.695928315996123 |\n",
      "|a12dd4381b9bcc54afa3273f2e121f4c62f15cbd|FIX: Netflix HDCP unauthorized content disabled                                                           |0.695846015304814 |\n",
      "|6a7de130b5e799ea778647a541636086ed085ed6|Netflix builds home for more Pinoy content                                                                |0.6947336173977369|\n",
      "|faeb64cae658c9e5ff8de61e21622f2a632af37b|Katie Price making Netflix movie about her life                                                           |0.6939843660097831|\n",
      "|6f1d9671bdf0f635f05f2f4701db4718badcfc1d|‘District 9’ on Netflix                                                                                   |0.6919959444085835|\n",
      "|15ed9fe1e264f2eec67fc394a4d46bbd57c8250a|Netflix: Get Up                                                                                           |0.6903154946686196|\n",
      "|413b660a74b84eed2789f36b800cc3604e7c479d|Betaal on Netflix Shambles Along Like a Zombie                                                            |0.690181986537958 |\n",
      "|428cdded42d702bec4348a747b27d28d3e1cdf2c|Fan Asks Sunil Chhetri To Share Netflix Password, Netflix Replies                                         |0.6898577991837561|\n",
      "|29013d557ea075eda2bcc8b214805155354648e1|How to Watch Malang Movie Online on Netflix For Free?                                                     |0.6891714506336226|\n",
      "|be528b575af47604472860e6b22e18116f4ce273|First Look At Netflix’s Cursed                                                                            |0.6888986100756455|\n",
      "|6982556618406dfa7c3693a0c431a20fb0ce8756|What Apple and Netflix Got Right About Being Second Movers                                                |0.6888539498625665|\n",
      "|3cf01f9b528c0d9d80995ada1c2d3a642e37837a|What Apple and Netflix Got Right About Being Second Movers                                                |0.6888539498625665|\n",
      "|05a0ece3250869598d93b48320f27fed9d30c9c9|What Apple and Netflix Got Right About Being Second Movers                                                |0.6888539498625665|\n",
      "|b5343fc8758410aac23e1deb0b771aefa8051904|What Apple and Netflix Got Right About Being Second Movers                                                |0.6888539498625665|\n",
      "|fd7c4364bfbf69b5d11f0600a663b3f2c9092ba6|Factsheet: How to get your African movie on Netflix                                                       |0.6884799446911767|\n",
      "|f6fe011fd540c35daaf986e3740653373c8b623f|Is Revolutionary Love the best K-drama on Netflix?                                                        |0.6870513929016875|\n",
      "|d4a56399824b010dc410da428aacf370f01c63b8|Companies like Netflix, McDonald's, and Target are                                                        |0.6856386938861939|\n",
      "|5e0d3aa63c31e7be5cb48b01ae3fc2fc7ab95ad5|Here are Netflix Recommended TVs for 2020                                                                 |0.6849920914666567|\n",
      "|5968b4297124cd8ee75687d76fd40e792382ea2c|2020 Netflix Recommended TVs                                                                              |0.6849920914666567|\n",
      "|1073d5591c32b2cef79c10cdb2b16ac9c3965ce3|Acclaimed indies in Netflix’s PH slate                                                                    |0.6849351686659786|\n",
      "|372c8718d6df97c136cb24d782c021eeb1b0f046|Acclaimed indies in Netflix’s PH slate                                                                    |0.6849351686659786|\n",
      "|1033cb65ff52df146122a7e023c5b8b1fb2d64a2|Beginner’s Guide to Netflix (For Uganda, Kenya, and Nigeria)                                              |0.6845758404195711|\n",
      "|d999b461bc4bc1c617b4976f15f60fd4b1a6486e|Who created Netflix?                                                                                      |0.6842963821169264|\n",
      "|a78ba27a51ee344bb038899716e4e5b144d93270|Eric Cantona revives classic Manchester United look for Netflix's 'Inhuman Resources' - Entertainment News|0.6834526216223904|\n",
      "|3616ec58b72ea69806fe739d40b06269ce6954c0|The One Movie To Watch Before It Leaves Netflix In June 2020                                              |0.6831699433277689|\n",
      "|9d4f36122669f58d37aa896ef0124795782f1715|Looks Like Netflix Edited Back To The Future’s Adult Content                                              |0.6830662158611688|\n",
      "+----------------------------------------+----------------------------------------------------------------------------------------------------------+------------------+\n",
      "only showing top 50 rows\n",
      "\n"
     ]
    }
   ],
   "source": [
    "print(\" \")\n",
    "print(\"The top 50 matching articles and their similarity scores are as follows:\")\n",
    "print(\" \")\n",
    "\n",
    "sim_rdd = sc.parallelize((i[0], i[1], float(cossim(query_vec, i[2]))) for i in chunk)\n",
    "sim_df  = sqlContext.createDataFrame(sim_rdd).\\\n",
    "                   withColumnRenamed('_1', 'uuid').\\\n",
    "                   withColumnRenamed('_2', 'title').\\\n",
    "                   withColumnRenamed('_3', 'similarity').\\\n",
    "                   orderBy(\"similarity\", ascending = False)\n",
    "sim_df.show(50, truncate = False)"
   ]
  }
 ],
 "metadata": {
  "kernelspec": {
   "display_name": "Python 3",
   "language": "python",
   "name": "python3"
  },
  "language_info": {
   "codemirror_mode": {
    "name": "ipython",
    "version": 3
   },
   "file_extension": ".py",
   "mimetype": "text/x-python",
   "name": "python",
   "nbconvert_exporter": "python",
   "pygments_lexer": "ipython3",
   "version": "3.7.4"
  }
 },
 "nbformat": 4,
 "nbformat_minor": 4
}
