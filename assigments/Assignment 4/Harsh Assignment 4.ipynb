{
 "cells": [
  {
   "cell_type": "markdown",
   "metadata": {},
   "source": [
    "# Applied Text and Natural Language Analytics, Fall 2020\n",
    "\n",
    "### Assignment 4\n",
    "\n",
    "Submitted by - \n",
    "Harsh Dhanuka, hd2457"
   ]
  },
  {
   "cell_type": "markdown",
   "metadata": {},
   "source": [
    "## 1. Pick a random news article (preferably with many entity mentions) from your Webhose dataset (provided earlier in Assignment 2)"
   ]
  },
  {
   "cell_type": "markdown",
   "metadata": {},
   "source": [
    "I am selecting the 'Netflix' dataset from  Assignment 2 for the analysis.\n",
    "\n",
    "The random news article from this dataset is: http://omgili.com/ri/.wHSUbtEfZSCvFgWhG.N__Y_kk6rEaYdjsrpI1bEeKktgDgldQ2s_6MRmlv4jK7fMNVEhQqU4EXb61rVFualijBYg7orEsJZJyBrzqNk1FQ_2z6DFSGmxcGnRpX.EB__lgRE2mriFDCyaZoJ1tyJAvD8XG37Dct6_XhBQCreko_WuncGLV.lltj.I7NCcFr0  \n",
    "\n",
    "This site now automatically redirects to the link - https://www.stuff.co.nz/entertainment/entertainment-top-stories/300026292/judge-gives-control-of-tiger-king-joe-exotics-zoo-to-carole-baskin \n",
    "\n",
    "I will use this new link for my analysis."
   ]
  },
  {
   "cell_type": "markdown",
   "metadata": {},
   "source": [
    "## 2. Follow directions to set up one of the Information Extraction services below, and write a Python program implementing API calls to extract Company/Organization and Geo entities from  the article chosen in Step 1:"
   ]
  },
  {
   "cell_type": "markdown",
   "metadata": {},
   "source": [
    "I will be using the `IBM Watson NLU` tool to perform the API call and extract the required entities"
   ]
  },
  {
   "cell_type": "code",
   "execution_count": 1,
   "metadata": {},
   "outputs": [],
   "source": [
    "import json\n",
    "\n",
    "from ibm_watson import NaturalLanguageUnderstandingV1\n",
    "from ibm_cloud_sdk_core.authenticators import IAMAuthenticator\n",
    "from ibm_watson.natural_language_understanding_v1 import Features, EntitiesOptions\n",
    "\n",
    "import spacy\n",
    "from spacy.gold import docs_to_json\n",
    "from spacy.util import minibatch, compounding\n",
    "from spacy.pipeline import SentenceSegmenter\n",
    "import random\n",
    "\n",
    "import urllib.request as url\n",
    "\n",
    "from bs4 import BeautifulSoup\n",
    "from bs4.element import Comment\n",
    "\n",
    "import warnings\n",
    "warnings.filterwarnings(\"ignore\")"
   ]
  },
  {
   "cell_type": "code",
   "execution_count": 2,
   "metadata": {},
   "outputs": [],
   "source": [
    "# Define \n",
    "\n",
    "link = 'https://www.stuff.co.nz/entertainment/entertainment-top-stories/300026292/judge-gives-control-of-tiger-king-joe-exotics-zoo-to-carole-baskin'"
   ]
  },
  {
   "cell_type": "code",
   "execution_count": 3,
   "metadata": {},
   "outputs": [
    {
     "name": "stdout",
     "output_type": "stream",
     "text": [
      "{\n",
      "  \"usage\": {\n",
      "    \"text_units\": 1,\n",
      "    \"text_characters\": 1581,\n",
      "    \"features\": 1\n",
      "  },\n",
      "  \"retrieved_url\": \"https://www.stuff.co.nz/entertainment/entertainment-top-stories/300026292/judge-gives-control-of-tiger-king-joe-exotics-zoo-to-carole-baskin\",\n",
      "  \"language\": \"en\",\n",
      "  \"entities\": [\n",
      "    {\n",
      "      \"type\": \"Person\",\n",
      "      \"text\": \"Joe Exotic\",\n",
      "      \"relevance\": 0.955086,\n",
      "      \"count\": 5,\n",
      "      \"confidence\": 0.99976\n",
      "    },\n",
      "    {\n",
      "      \"type\": \"Company\",\n",
      "      \"text\": \"Big Cat Rescue Corporation\",\n",
      "      \"relevance\": 0.333057,\n",
      "      \"count\": 2,\n",
      "      \"confidence\": 0.535277\n",
      "    },\n",
      "    {\n",
      "      \"type\": \"Person\",\n",
      "      \"text\": \"Scott Palk\",\n",
      "      \"relevance\": 0.311141,\n",
      "      \"count\": 1,\n",
      "      \"confidence\": 0.757238\n",
      "    },\n",
      "    {\n",
      "      \"type\": \"Person\",\n",
      "      \"text\": \"Maldonado\",\n",
      "      \"relevance\": 0.309414,\n",
      "      \"count\": 4,\n",
      "      \"confidence\": 1\n",
      "    },\n",
      "    {\n",
      "      \"type\": \"Person\",\n",
      "      \"text\": \"Joseph Maldonado\",\n",
      "      \"relevance\": 0.295702,\n",
      "      \"count\": 1,\n",
      "      \"confidence\": 0.989706\n",
      "    },\n",
      "    {\n",
      "      \"type\": \"Person\",\n",
      "      \"text\": \"Carole Baskin\",\n",
      "      \"relevance\": 0.271802,\n",
      "      \"count\": 1,\n",
      "      \"confidence\": 0.99812\n",
      "    },\n",
      "    {\n",
      "      \"type\": \"Company\",\n",
      "      \"text\": \"Netflix\",\n",
      "      \"relevance\": 0.270184,\n",
      "      \"disambiguation\": {\n",
      "        \"subtype\": [\n",
      "          \"Organization\",\n",
      "          \"VentureFundedCompany\"\n",
      "        ],\n",
      "        \"name\": \"Netflix\",\n",
      "        \"dbpedia_resource\": \"http://dbpedia.org/resource/Netflix\"\n",
      "      },\n",
      "      \"count\": 2,\n",
      "      \"confidence\": 0.99998\n",
      "    },\n",
      "    {\n",
      "      \"type\": \"Location\",\n",
      "      \"text\": \"Oklahoma\",\n",
      "      \"relevance\": 0.250212,\n",
      "      \"count\": 2,\n",
      "      \"confidence\": 0.992424\n",
      "    },\n",
      "    {\n",
      "      \"type\": \"Person\",\n",
      "      \"text\": \"Nicolas Cage\",\n",
      "      \"relevance\": 0.236294,\n",
      "      \"disambiguation\": {\n",
      "        \"subtype\": [\n",
      "          \"Actor\",\n",
      "          \"MusicalArtist\",\n",
      "          \"AwardNominee\",\n",
      "          \"AwardWinner\",\n",
      "          \"Celebrity\",\n",
      "          \"FilmActor\",\n",
      "          \"FilmProducer\",\n",
      "          \"TVActor\",\n",
      "          \"TVProducer\"\n",
      "        ],\n",
      "        \"name\": \"Nicolas_Cage\",\n",
      "        \"dbpedia_resource\": \"http://dbpedia.org/resource/Nicolas_Cage\"\n",
      "      },\n",
      "      \"count\": 2,\n",
      "      \"confidence\": 0.999988\n",
      "    },\n",
      "    {\n",
      "      \"type\": \"Person\",\n",
      "      \"text\": \"Baskin\",\n",
      "      \"relevance\": 0.229365,\n",
      "      \"count\": 2,\n",
      "      \"confidence\": 0.996269\n",
      "    }\n",
      "  ]\n",
      "}\n"
     ]
    }
   ],
   "source": [
    "authenticator = IAMAuthenticator('hZoHwqiv8lmnO5iqC7vCMHYfJeeZSMxNPj8pQu0gLZdP')\n",
    "natural_language_understanding = NaturalLanguageUnderstandingV1(\n",
    "    version='2020-08-01',\n",
    "    authenticator=authenticator\n",
    ")\n",
    "\n",
    "# Obtained from the IBM Cloud account\n",
    "natural_language_understanding.set_service_url('https://api.us-east.natural-language-understanding.watson.cloud.ibm.com/instances/da45734b-7911-438e-8603-b14389386d9d')\n",
    "\n",
    "response = natural_language_understanding.analyze(\n",
    "    url = link,\n",
    "    features = Features(entities = EntitiesOptions(mentions = False, sentiment = False, limit = 10))).get_result()\n",
    "\n",
    "print(json.dumps(response, indent=2))"
   ]
  },
  {
   "cell_type": "markdown",
   "metadata": {},
   "source": [
    "### Alternate Method: `SpaCY`"
   ]
  },
  {
   "cell_type": "code",
   "execution_count": 4,
   "metadata": {},
   "outputs": [],
   "source": [
    "html = url.urlopen(link)\n",
    "raw = html.read()"
   ]
  },
  {
   "cell_type": "code",
   "execution_count": 5,
   "metadata": {},
   "outputs": [
    {
     "name": "stdout",
     "output_type": "stream",
     "text": [
      "                           Judge gives control of 'Tiger King' Joe Exotic's zoo to Carole Baskin | Stuff.co.nz           news National World Coronavirus Climate Change Politics Business prosper Farming Technology Sport Rugby voices & in depth perspectives Pou Tiaki Spotlight Stuff Nation Cartoons KEA Kids News living Travel Homed Life & Style Entertainment bravo Motoring Food & Wine Oddstuff regions northland Auckland Waikato Bay of Plenty Taranaki hawke's bay manawatu wellington nelson marlborough canterbury south cantebury otago southland more Weather Quizzes Puzzles Newsletters about stuff contribute Advertising Careers Privacy Contact stuff family Play Stuff neighbourly mags4gifts stuff events stuff coupons Entertainment Entertainment Top Stories One new Covid-19 case in managed isolation ... read more Judge gives control of 'Tiger King' Joe Exotic's zoo to Carole Baskin 08:27, Jun 03 2020 Facebook Twitter Whats App Reddit Email A federal judge in Oklahoma has awarded ownership of \n"
     ]
    }
   ],
   "source": [
    "# Using the code provided by lecturer in Module 3 class excercise to parse text from a web or .html article\n",
    "\n",
    "def tag_visible(element):\n",
    "    if element.parent.name in ['style', 'script', \n",
    "                               # 'head', 'title', \n",
    "                               'meta', '[document]']:\n",
    "        return False\n",
    "    if isinstance(element, Comment):\n",
    "        return False\n",
    "    return True\n",
    "\n",
    "def text_from_html(body):\n",
    "    soup = BeautifulSoup(body, 'html.parser')\n",
    "    texts = soup.findAll(text=True)\n",
    "    visible_texts = filter(tag_visible, texts)  \n",
    "    return u\" \".join(t.strip() for t in visible_texts)\n",
    "\n",
    "text = text_from_html(raw)\n",
    "print(text[:1000])"
   ]
  },
  {
   "cell_type": "code",
   "execution_count": 6,
   "metadata": {},
   "outputs": [],
   "source": [
    "nlp = spacy.load(\"en_core_web_sm\")\n",
    "\n",
    "# Parse through text from webpage into a spacy nlp\n",
    "page = nlp(text)"
   ]
  },
  {
   "cell_type": "code",
   "execution_count": 7,
   "metadata": {},
   "outputs": [
    {
     "name": "stdout",
     "output_type": "stream",
     "text": [
      " \n",
      "Below is a list of all companies/organizations referenced in the article:\n",
      " \n",
      "{'Palk', 'Motoring Food & Wine Oddstuff', 'Maldonado-Passage', 'Joe Exotic', 'Big Cat Rescue Corporation', 'Twitter', 'Travel Homed Life & Style Entertainment', 'AP', 'MasterChef Australia Wife', \"Maldonado-Passage's\", 'Domino', 'Kmart', 'National World Coronavirus Climate Change Politics Business prosper Farming Technology Sport Rugby voices &', \"Joe Exotic's\", 'Tiger King', 'Entertainment Entertainment Top Stories'}\n",
      " \n",
      "Below is a list of all geo entities referenced in the article:\n",
      " \n",
      "{'Netflix', 'Florida', 'Oklahoma', 'Texas', 'Fort Worth', 'US', 'Maldonado', 'Samoa', 'mags4gifts', 'Australia'}\n"
     ]
    }
   ],
   "source": [
    "# Entity label in spacy for company/organization and geo entities\n",
    "entity_labels = ['ORG', 'GPE']\n",
    "\n",
    "# Extract companies and geo entities from the article\n",
    "orgs = []\n",
    "geos = []\n",
    "for entity in page.ents:\n",
    "    if entity.label_ == 'ORG':\n",
    "        orgs.append(entity.text)\n",
    "    elif entity.label_ == 'GPE':\n",
    "        geos.append(entity.text)\n",
    "    else:\n",
    "        continue\n",
    "\n",
    "print(\" \")        \n",
    "print(\"Below is a list of all companies/organizations referenced in the article:\")\n",
    "print(\" \")\n",
    "print(set(orgs))\n",
    "print(\" \")\n",
    "print(\"Below is a list of all geo entities referenced in the article:\")\n",
    "print(\" \")\n",
    "print(set(geos))"
   ]
  },
  {
   "cell_type": "markdown",
   "metadata": {},
   "source": [
    "## 3.  Use the Class Exercise Jupyter Notebook (SpaCy NER) as a reference to:"
   ]
  },
  {
   "cell_type": "code",
   "execution_count": 8,
   "metadata": {},
   "outputs": [],
   "source": [
    "# spacy models must be downloaded - run 'python -m spacy download en_core_web_sm' in terminal if this fails\n",
    "nlp = spacy.load(\"en_core_web_sm\")"
   ]
  },
  {
   "cell_type": "markdown",
   "metadata": {},
   "source": [
    "### 1. !pip install spacy "
   ]
  },
  {
   "cell_type": "code",
   "execution_count": 9,
   "metadata": {},
   "outputs": [],
   "source": [
    "# Action performed in the terminal window\n",
    "\n",
    "# pip install spacy "
   ]
  },
  {
   "cell_type": "markdown",
   "metadata": {},
   "source": [
    "### 2. Update TRAIN_DATA with annotations of entities (PERSON, LOCATION, or ORGANIZATION) from each sentence in the article selected in step 1"
   ]
  },
  {
   "cell_type": "markdown",
   "metadata": {},
   "source": [
    "#### Extract the sentences from the article, to annotate the entities in the Train_Data"
   ]
  },
  {
   "cell_type": "code",
   "execution_count": 10,
   "metadata": {},
   "outputs": [
    {
     "data": {
      "text/plain": [
       "living Travel Homed Life & Style Entertainment bravo Motoring Food & Wine Oddstuff regions northland Auckland Waikato Bay of Plenty Taranaki hawke's bay manawatu wellington nelson marlborough canterbury south cantebury otago southland more Weather Quizzes Puzzles Newsletters about stuff contribute Advertising Careers"
      ]
     },
     "execution_count": 10,
     "metadata": {},
     "output_type": "execute_result"
    }
   ],
   "source": [
    "# We have to use the .sents method, to extract the text in the approproate SpaCY nlp format\n",
    "# 'page' is the raw SpaCY nlp text we defined earlier\n",
    "\n",
    "sentences = [sentence for sentence in page.sents]\n",
    "sentences[2]"
   ]
  },
  {
   "cell_type": "markdown",
   "metadata": {},
   "source": [
    "#### Create a function to extract the entities from each sentence\n",
    "\n",
    "Standard annotations taken from https://spacy.io/api/annotation#named-entities"
   ]
  },
  {
   "cell_type": "code",
   "execution_count": 11,
   "metadata": {},
   "outputs": [],
   "source": [
    "required_entities = ['PERSON', 'GPE', 'ORG']\n",
    "\n",
    "def extractEntity(sentence, entities):\n",
    "    ents = []\n",
    "    for ent in sentence.ents:\n",
    "        if ent.label_ in entities:\n",
    "            ents.append((ent.start_char, ent.end_char, ent.label_))\n",
    "        else:\n",
    "            continue\n",
    "    return (str(sentence), {'entities': ents})"
   ]
  },
  {
   "cell_type": "markdown",
   "metadata": {},
   "source": [
    "#### Pass the function, and check"
   ]
  },
  {
   "cell_type": "code",
   "execution_count": 12,
   "metadata": {},
   "outputs": [
    {
     "name": "stdout",
     "output_type": "stream",
     "text": [
      "('National World Coronavirus Climate Change Politics Business prosper Farming Technology Sport Rugby voices & in depth perspectives Pou Tiaki Spotlight Stuff Nation Cartoons KEA Kids News', {'entities': [(126, 233, 'ORG')]})\n",
      " \n",
      "(\"living Travel Homed Life & Style Entertainment bravo Motoring Food & Wine Oddstuff regions northland Auckland Waikato Bay of Plenty Taranaki hawke's bay manawatu wellington nelson marlborough canterbury south cantebury otago southland more Weather Quizzes Puzzles Newsletters about stuff contribute Advertising Careers\", {'entities': [(319, 358, 'ORG'), (365, 394, 'ORG'), (444, 452, 'PERSON')]})\n"
     ]
    }
   ],
   "source": [
    "print(extractEntity(sentences[1], required_entities))\n",
    "print(\" \")\n",
    "print(extractEntity(sentences[2], required_entities))"
   ]
  },
  {
   "cell_type": "markdown",
   "metadata": {},
   "source": [
    "#### Build the Train Set"
   ]
  },
  {
   "cell_type": "code",
   "execution_count": 13,
   "metadata": {},
   "outputs": [],
   "source": [
    "TRAIN_DATA = []\n",
    "\n",
    "for sentence in sentences:\n",
    "    TRAIN_DATA.append(extractEntity(sentence, required_entities))"
   ]
  },
  {
   "cell_type": "code",
   "execution_count": 14,
   "metadata": {},
   "outputs": [
    {
     "data": {
      "text/plain": [
       "[(\"                           Judge gives control of 'Tiger King' Joe Exotic's zoo to Carole Baskin | Stuff.co.nz           news\",\n",
       "  {'entities': [(51, 62, 'PERSON'), (63, 75, 'PERSON'), (83, 96, 'PERSON')]}),\n",
       " ('National World Coronavirus Climate Change Politics Business prosper Farming Technology Sport Rugby voices & in depth perspectives Pou Tiaki Spotlight Stuff Nation Cartoons KEA Kids News',\n",
       "  {'entities': [(126, 233, 'ORG')]}),\n",
       " (\"living Travel Homed Life & Style Entertainment bravo Motoring Food & Wine Oddstuff regions northland Auckland Waikato Bay of Plenty Taranaki hawke's bay manawatu wellington nelson marlborough canterbury south cantebury otago southland more Weather Quizzes Puzzles Newsletters about stuff contribute Advertising Careers\",\n",
       "  {'entities': [(319, 358, 'ORG'), (365, 394, 'ORG'), (444, 452, 'PERSON')]}),\n",
       " ('Privacy Contact stuff family Play Stuff neighbourly mags4gifts stuff events stuff coupons Entertainment Entertainment Top Stories',\n",
       "  {'entities': [(683, 693, 'GPE'), (721, 760, 'ORG')]}),\n",
       " (\"One new Covid-19 case in managed isolation ... read more Judge gives control of 'Tiger King' Joe Exotic's zoo to Carole Baskin 08:27,\",\n",
       "  {'entities': [(842, 853, 'PERSON'),\n",
       "    (854, 866, 'PERSON'),\n",
       "    (874, 887, 'PERSON')]}),\n",
       " ('Jun 03 2020 Facebook', {'entities': []}),\n",
       " ('Twitter', {'entities': []}),\n",
       " ('Whats App Reddit Email', {'entities': []}),\n",
       " (\"A federal judge in Oklahoma has awarded ownership of the zoo made famous in Netflix's Tiger King docuseries to Joe Exotic's chief rival.\",\n",
       "  {'entities': [(966, 974, 'GPE'), (1023, 1030, 'GPE'), (1058, 1070, 'ORG')]}),\n",
       " ('In a ruling on Monday, US District Judge Scott Palk granted control of the Oklahoma zoo that was previously run by Joseph Maldonado-Passage – also known as Joe Exotic – to Big Cat Rescue Corporation.',\n",
       "  {'entities': [(1107, 1109, 'GPE'),\n",
       "    (1125, 1135, 'PERSON'),\n",
       "    (1159, 1167, 'GPE'),\n",
       "    (1199, 1223, 'PERSON'),\n",
       "    (1240, 1250, 'PERSON'),\n",
       "    (1256, 1282, 'ORG')]}),\n",
       " ('The Florida group was founded by Carole Baskin, who also featured prominently in the hit Netflix series.',\n",
       "  {'entities': [(1288, 1295, 'GPE'), (1317, 1330, 'PERSON')]}),\n",
       " ('Maldonado-Passage is currently serving a 22-year federal prison term for killing five tigers and plotting to have Baskin killed.  ',\n",
       "  {'entities': [(1389, 1406, 'ORG')]}),\n",
       " ('READ', {'entities': []}),\n",
       " ('MORE:', {'entities': []}),\n",
       " (\"* Joe Exotic's husband Dillon passage surprised by Nicolas Cage casting, has ideas for who should play him\",\n",
       "  {'entities': [(1532, 1544, 'PERSON'),\n",
       "    (1553, 1559, 'PERSON'),\n",
       "    (1581, 1593, 'PERSON')]}),\n",
       " (\"* Nicolas Cage is playing Tiger King's Joe Exotic in a new limited series\",\n",
       "  {'entities': [(1639, 1651, 'PERSON'),\n",
       "    (1663, 1675, 'PERSON'),\n",
       "    (1676, 1686, 'PERSON')]}),\n",
       " ('* Did you think TV was done with Joe Exotic and Tiger King specials?',\n",
       "  {'entities': [(1744, 1754, 'ORG'), (1759, 1769, 'ORG')]}),\n",
       " (\"It's Rick Kirkham's turn  \", {'entities': [(1785, 1799, 'PERSON')]}),\n",
       " ('Baskin previously sued Maldonado-Passage for trademark and copyright infringements and won a $US1 million ($1.45 million) civil judgment against him.',\n",
       "  {'entities': [(1829, 1838, 'GPE')]}),\n",
       " (\"Palk's judgment on Monday found that ownership of the zoo was fraudulently transferred to Maldonado-Passage's mother in an attempt to avoid paying the judgment.\",\n",
       "  {'entities': [(1956, 1960, 'ORG'), (2046, 2065, 'ORG')]}),\n",
       " (\"NETFLIX Carole Baskin will take control of Joe Exotic's zoo.\",\n",
       "  {'entities': [(2117, 2138, 'PERSON'), (2160, 2172, 'ORG')]}),\n",
       " ('The decision said the zoo animals must be removed from the property within 120 days, but it does not detail what should happen to them.',\n",
       "  {'entities': []}),\n",
       " ('Attorneys representing Big Cat Rescue Corporation did not immediately return messages seeking comment.',\n",
       "  {'entities': [(2337, 2363, 'ORG')]}),\n",
       " ('Maldonado-Passage remains incarcerated in Fort Worth, Texas.',\n",
       "  {'entities': [(2417, 2434, 'ORG'),\n",
       "    (2459, 2469, 'GPE'),\n",
       "    (2471, 2476, 'GPE')]}),\n",
       " ('In a handwritten letter posted Monday on Twitter, he repeated his plea for a presidential pardon.',\n",
       "  {'entities': [(2519, 2526, 'ORG')]}),\n",
       " ('AP', {'entities': [(2576, 2578, 'ORG')]}),\n",
       " ('Facebook', {'entities': []}),\n",
       " ('Twitter', {'entities': []}),\n",
       " (\"Whats App Reddit Email most popular Kmart's $99 coffee machine outperforms\",\n",
       "  {'entities': [(2632, 2637, 'ORG')]}),\n",
       " (\"$4500 espresso maker Domino's boss employs homeless man using pizza box to ask for spare change\",\n",
       "  {'entities': [(2692, 2698, 'ORG')]}),\n",
       " ('A controversial hug caps off a winning season of MasterChef Australia Wife of slain Canterbury farmworker charged with his murder Teacher',\n",
       "  {'entities': [(2816, 2841, 'ORG')]}),\n",
       " ('stops speeding van after driver passes out Missing Matamata couple found Man dead in Lower Hutt:',\n",
       "  {'entities': [(2948, 2964, 'PERSON')]}),\n",
       " ('Homicide investigation underway Quiz:', {'entities': []}),\n",
       " ('Morning trivia challenge: October 13, 2020 NZ resident to be deported to Samoa after raping elderly woman All Blacks vs Australia:',\n",
       "  {'entities': [(3113, 3118, 'GPE'), (3160, 3169, 'GPE')]}),\n",
       " (\"David Campese warns NZ: 'The aura is gone'\",\n",
       "  {'entities': [(3171, 3184, 'PERSON')]}),\n",
       " ('Neighbourly Death Notices Coupons Advertising Careers Privacy Policy Cookies Policy Terms & Conditions',\n",
       "  {'entities': []}),\n",
       " ('Editorial Code Contact Us Breaking news?', {'entities': []}),\n",
       " ('Send your photos, videos and tip-offs to newstips@stuff.co.nz , or call us on 0800 697 8833 © 2020',\n",
       "  {'entities': []}),\n",
       " ('Stuff Limited                        ', {'entities': []})]"
      ]
     },
     "execution_count": 14,
     "metadata": {},
     "output_type": "execute_result"
    }
   ],
   "source": [
    "TRAIN_DATA"
   ]
  },
  {
   "cell_type": "markdown",
   "metadata": {},
   "source": [
    "### 3. run spaCy_NER function to generate trained_nlp model"
   ]
  },
  {
   "cell_type": "markdown",
   "metadata": {},
   "source": [
    "#### Define a NER training model"
   ]
  },
  {
   "cell_type": "code",
   "execution_count": 15,
   "metadata": {},
   "outputs": [],
   "source": [
    "import matplotlib.pyplot as plt\n",
    "\n",
    "def plot_loss_history(loss_history):\n",
    "    f, ax = plt.subplots(1, 1, figsize=(12, 8)) # set the size of figures for plots\n",
    "    plt.plot(loss_history)\n",
    "    plt.xlabel('Iteration').set_fontsize(20)\n",
    "    plt.ylabel('Loss value').set_fontsize(20)\n",
    "    plt.show()\n",
    "    return"
   ]
  },
  {
   "cell_type": "code",
   "execution_count": 16,
   "metadata": {},
   "outputs": [
    {
     "name": "stdout",
     "output_type": "stream",
     "text": [
      "Starting iteration 0\n",
      "{'ner': 149.97165184100174}\n",
      "Starting iteration 1\n",
      "{'ner': 5.999999643022408}\n",
      "Starting iteration 2\n",
      "{'ner': 19.96105406121429}\n",
      "Starting iteration 3\n",
      "{'ner': 6.473014154945285}\n",
      "Starting iteration 4\n",
      "{'ner': 7.372828875289653}\n",
      "Starting iteration 5\n",
      "{'ner': 4.875220950842314}\n",
      "Starting iteration 6\n",
      "{'ner': 8.277321536607026}\n",
      "Starting iteration 7\n",
      "{'ner': 5.652954541259859}\n",
      "Starting iteration 8\n",
      "{'ner': 11.335524132586226}\n",
      "Starting iteration 9\n",
      "{'ner': 8.079724511241578}\n",
      "Starting iteration 10\n",
      "{'ner': 18.717978137201083}\n",
      "Starting iteration 11\n",
      "{'ner': 8.489483396385264}\n",
      "Starting iteration 12\n",
      "{'ner': 16.393554230790695}\n",
      "Starting iteration 13\n",
      "{'ner': 15.388531106519745}\n",
      "Starting iteration 14\n",
      "{'ner': 10.456766723536616}\n"
     ]
    },
    {
     "data": {
      "image/png": "[encoded data removed]",
      "text/plain": [
       "<Figure size 864x576 with 1 Axes>"
      ]
     },
     "metadata": {
      "needs_background": "light"
     },
     "output_type": "display_data"
    }
   ],
   "source": [
    "def train_spacy(data,iterations):\n",
    "    TRAIN_DATA = data\n",
    "    nlp = spacy.blank('en')  # create blank Language class\n",
    "    # create the built-in pipeline components and add them to the pipeline\n",
    "    # nlp.create_pipe works for built-ins that are registered with spaCy\n",
    "    \n",
    "    # Add NER trainer to pipe\n",
    "    if 'ner' not in nlp.pipe_names:\n",
    "        ner = nlp.create_pipe('ner')\n",
    "        nlp.add_pipe(ner, last=True)\n",
    "       \n",
    "\n",
    "    # add labels\n",
    "    for _, annotations in TRAIN_DATA:\n",
    "         for ent in annotations.get('entities'):\n",
    "            ner.add_label(ent[2])\n",
    "\n",
    "    # get names of other pipes to disable them during training\n",
    "    # Disable all other pipes and just train NER\n",
    "    other_pipes = [pipe for pipe in nlp.pipe_names if pipe != 'ner']\n",
    "    with nlp.disable_pipes(*other_pipes):  # only train NER\n",
    "        optimizer = nlp.begin_training()\n",
    "        loss_history = []\n",
    "        for itn in range(iterations):\n",
    "            #if not itn % 5:\n",
    "            print(\"Starting iteration \" + str(itn))\n",
    "            random.shuffle(TRAIN_DATA)\n",
    "            losses = {}\n",
    "            for text, annotations in TRAIN_DATA:\n",
    "                nlp.update(\n",
    "                    [text],  # batch of texts\n",
    "                    [annotations],  # batch of annotations\n",
    "                    drop=0.2,  # dropout - make it harder to memorise data\n",
    "                    sgd=optimizer,  # callable to update weights\n",
    "                    losses=losses)\n",
    "            print(losses)\n",
    "            loss_history.append(losses['ner'])\n",
    "    plot_loss_history(loss_history)\n",
    "    return nlp\n",
    "\n",
    "prdnlp = train_spacy(TRAIN_DATA, 15)"
   ]
  },
  {
   "cell_type": "markdown",
   "metadata": {},
   "source": [
    "### 4. use trained_nlp to test entity recognition on another random news article from Webhose and print results to output\n",
    "\n",
    "For this, I will use the second article from the same webhose dataset of 'Netflix'\n",
    "\n",
    "The link is: 'https://www.stuff.co.nz/entertainment/tv-radio/300026661/13-reasons-why-the-popular-netflix-shows-creator-teases-chance-of-a-hopeful-ending'"
   ]
  },
  {
   "cell_type": "code",
   "execution_count": 17,
   "metadata": {},
   "outputs": [
    {
     "name": "stdout",
     "output_type": "stream",
     "text": [
      "                           13 Reasons Why: The popular Netflix show's creator teases chance of a hopeful ending  | Stuff.co.nz           news National World Coronavirus Climate Change Politics Business prosper Farming Technology Sport Rugby voices & in depth perspectives Pou Tiaki Spotlight Stuff Nation Cartoons KEA Kids News living Travel Homed Life & Style Entertainment bravo Motoring Food & Wine Oddstuff regions northland Auckland Waikato Bay of Plenty Taranaki hawke's bay manawatu wellington nelson marlborough canterbury south cantebury otago southland more Weather Quizzes Puzzles Newsletters about stuff contribute Advertising Careers Privacy Contact stuff family Play Stuff neighbourly mags4gifts stuff events stuff coupons Entertainment TV & Radio One new Covid-19 case in managed isolation ... read more 13 Reasons Why: The popular Netflix show's creator teases chance of a hopeful ending 14:49, Jun 03 2020 Facebook Twitter Whats App Reddit Email NETFLIX The final season of 13 Reason\n"
     ]
    }
   ],
   "source": [
    "# Get all body text from another webpage from webhose dataset from above\n",
    "link2 = 'https://www.stuff.co.nz/entertainment/tv-radio/300026661/13-reasons-why-the-popular-netflix-shows-creator-teases-chance-of-a-hopeful-ending'\n",
    "\n",
    "html2 = url.urlopen(link2).read()\n",
    "text2 = text_from_html(html2)\n",
    "print(text2[:1000])"
   ]
  },
  {
   "cell_type": "markdown",
   "metadata": {},
   "source": [
    "#### Run the trained model"
   ]
  },
  {
   "cell_type": "code",
   "execution_count": 18,
   "metadata": {},
   "outputs": [],
   "source": [
    "doc = prdnlp(text2)\n",
    "for ent in doc.ents:\n",
    "    print(ent.text, ent.start_char, ent.end_char, ent.label_)"
   ]
  },
  {
   "cell_type": "code",
   "execution_count": 19,
   "metadata": {},
   "outputs": [
    {
     "name": "stdout",
     "output_type": "stream",
     "text": [
      "Entities [('13', 'CARDINAL'), ('Netflix', 'LOC'), ('National World Coronavirus Climate Change Politics Business prosper Farming Technology Sport Rugby voices &', 'ORG'), ('Travel Homed Life & Style Entertainment', 'ORG'), ('Motoring Food & Wine Oddstuff', 'ORG'), ('Auckland Waikato Bay', 'LOC'), ('Taranaki', 'PERSON'), ('bay manawatu', 'FAC'), ('Weather Quizzes Puzzles Newsletters', 'WORK_OF_ART'), ('mags4gifts', 'GPE'), ('13', 'CARDINAL'), ('Netflix', 'PRODUCT'), ('14:49', 'TIME'), ('Jun', 'PERSON'), ('13', 'CARDINAL'), ('fourth and final season', 'DATE'), ('Netflix', 'PERSON'), ('Friday', 'DATE'), ('Brian Yorkey', 'PERSON'), (\"Jay Asher's\", 'PERSON'), ('2007', 'DATE'), ('Netflix', 'ORG'), ('2017', 'DATE'), ('the first season', 'DATE'), ('Hannah Baker', 'PERSON'), ('17-year-old', 'DATE'), ('American', 'NORP'), ('2019', 'DATE'), ('Netflix', 'PERSON'), (\"the first season's\", 'DATE'), ('each season', 'DATE'), ('four', 'CARDINAL'), ('13', 'CARDINAL'), ('Netflix', 'GPE'), ('Friday', 'DATE'), ('Reviews', 'PERSON'), ('two and three', 'CARDINAL'), ('Yorkey', 'DATE'), ('13', 'CARDINAL'), ('After Life: Ricky Gervais’', 'WORK_OF_ART'), ('Mental Health Foundation', 'ORG'), ('Netflix', 'ORG'), ('13', 'CARDINAL'), ('Hannah', 'PERSON'), ('season 4', 'DATE'), ('Yorkey told Entertainment Weekly', 'WORK_OF_ART'), ('Yorkey', 'DATE'), ('seasons 1-3', 'DATE'), ('Getty Images', 'PERSON'), ('Brian Yorkey', 'PERSON'), ('Yorkey', 'WORK_OF_ART'), ('Entertainment Weekly', 'ORG'), ('Yorkey', 'WORK_OF_ART'), ('Hannah Baker', 'PERSON'), ('Kmart', 'ORG'), ('99', 'MONEY'), ('4500', 'MONEY'), ('Domino', 'ORG'), ('MasterChef Australia Wife', 'ORG'), ('Missing Matamata', 'PERSON'), ('Morning', 'TIME'), ('October 13', 'DATE'), ('Samoa', 'GPE'), ('Australia', 'GPE'), ('David Campese', 'PERSON'), ('0800 697 8833 © 2020', 'DATE')]\n",
      "Entities [('13', 'CARDINAL'), ('Netflix', 'LOC'), ('National World Coronavirus Climate Change Politics Business prosper Farming Technology Sport Rugby voices &', 'ORG'), ('Travel Homed Life & Style Entertainment', 'ORG'), ('Motoring Food & Wine Oddstuff', 'ORG'), ('Auckland Waikato Bay', 'LOC'), ('Taranaki', 'PERSON'), ('bay manawatu', 'FAC'), ('Weather Quizzes Puzzles Newsletters', 'WORK_OF_ART'), ('mags4gifts', 'GPE'), ('13', 'CARDINAL'), ('Netflix', 'PRODUCT'), ('14:49', 'TIME'), ('Jun', 'PERSON'), ('13', 'CARDINAL'), ('fourth and final season', 'DATE'), ('Netflix', 'PERSON'), ('Friday', 'DATE'), ('Brian Yorkey', 'PERSON'), (\"Jay Asher's\", 'PERSON'), ('2007', 'DATE'), ('Netflix', 'ORG'), ('2017', 'DATE'), ('the first season', 'DATE'), ('Hannah Baker', 'PERSON'), ('17-year-old', 'DATE'), ('American', 'NORP'), ('2019', 'DATE'), ('Netflix', 'PERSON'), (\"the first season's\", 'DATE'), ('each season', 'DATE'), ('four', 'CARDINAL'), ('13', 'CARDINAL'), ('Netflix', 'GPE'), ('Friday', 'DATE'), ('Reviews', 'PERSON'), ('two and three', 'CARDINAL'), ('Yorkey', 'DATE'), ('13', 'CARDINAL'), ('After Life: Ricky Gervais’', 'WORK_OF_ART'), ('Mental Health Foundation', 'ORG'), ('Netflix', 'ORG'), ('13', 'CARDINAL'), ('Hannah', 'PERSON'), ('season 4', 'DATE'), ('Yorkey told Entertainment Weekly', 'WORK_OF_ART'), ('Yorkey', 'DATE'), ('seasons 1-3', 'DATE'), ('Getty Images', 'PERSON'), ('Brian Yorkey', 'PERSON'), ('Yorkey', 'WORK_OF_ART'), ('Entertainment Weekly', 'ORG'), ('Yorkey', 'WORK_OF_ART'), ('Hannah Baker', 'PERSON'), ('Kmart', 'ORG'), ('99', 'MONEY'), ('4500', 'MONEY'), ('Domino', 'ORG'), ('MasterChef Australia Wife', 'ORG'), ('Missing Matamata', 'PERSON'), ('Morning', 'TIME'), ('October 13', 'DATE'), ('Samoa', 'GPE'), ('Australia', 'GPE'), ('David Campese', 'PERSON'), ('0800 697 8833 © 2020', 'DATE')]\n",
      "Entities [('13', 'CARDINAL'), ('Netflix', 'LOC'), ('National World Coronavirus Climate Change Politics Business prosper Farming Technology Sport Rugby voices &', 'ORG'), ('Travel Homed Life & Style Entertainment', 'ORG'), ('Motoring Food & Wine Oddstuff', 'ORG'), ('Auckland Waikato Bay', 'LOC'), ('Taranaki', 'PERSON'), ('bay manawatu', 'FAC'), ('Weather Quizzes Puzzles Newsletters', 'WORK_OF_ART'), ('mags4gifts', 'GPE'), ('13', 'CARDINAL'), ('Netflix', 'PRODUCT'), ('14:49', 'TIME'), ('Jun', 'PERSON'), ('13', 'CARDINAL'), ('fourth and final season', 'DATE'), ('Netflix', 'PERSON'), ('Friday', 'DATE'), ('Brian Yorkey', 'PERSON'), (\"Jay Asher's\", 'PERSON'), ('2007', 'DATE'), ('Netflix', 'ORG'), ('2017', 'DATE'), ('the first season', 'DATE'), ('Hannah Baker', 'PERSON'), ('17-year-old', 'DATE'), ('American', 'NORP'), ('2019', 'DATE'), ('Netflix', 'PERSON'), (\"the first season's\", 'DATE'), ('each season', 'DATE'), ('four', 'CARDINAL'), ('13', 'CARDINAL'), ('Netflix', 'GPE'), ('Friday', 'DATE'), ('Reviews', 'PERSON'), ('two and three', 'CARDINAL'), ('Yorkey', 'DATE'), ('13', 'CARDINAL'), ('After Life: Ricky Gervais’', 'WORK_OF_ART'), ('Mental Health Foundation', 'ORG'), ('Netflix', 'ORG'), ('13', 'CARDINAL'), ('Hannah', 'PERSON'), ('season 4', 'DATE'), ('Yorkey told Entertainment Weekly', 'WORK_OF_ART'), ('Yorkey', 'DATE'), ('seasons 1-3', 'DATE'), ('Getty Images', 'PERSON'), ('Brian Yorkey', 'PERSON'), ('Yorkey', 'WORK_OF_ART'), ('Entertainment Weekly', 'ORG'), ('Yorkey', 'WORK_OF_ART'), ('Hannah Baker', 'PERSON'), ('Kmart', 'ORG'), ('99', 'MONEY'), ('4500', 'MONEY'), ('Domino', 'ORG'), ('MasterChef Australia Wife', 'ORG'), ('Missing Matamata', 'PERSON'), ('Morning', 'TIME'), ('October 13', 'DATE'), ('Samoa', 'GPE'), ('Australia', 'GPE'), ('David Campese', 'PERSON'), ('0800 697 8833 © 2020', 'DATE')]\n",
      "Entities [('13', 'CARDINAL'), ('Netflix', 'LOC'), ('National World Coronavirus Climate Change Politics Business prosper Farming Technology Sport Rugby voices &', 'ORG'), ('Travel Homed Life & Style Entertainment', 'ORG'), ('Motoring Food & Wine Oddstuff', 'ORG'), ('Auckland Waikato Bay', 'LOC'), ('Taranaki', 'PERSON'), ('bay manawatu', 'FAC'), ('Weather Quizzes Puzzles Newsletters', 'WORK_OF_ART'), ('mags4gifts', 'GPE'), ('13', 'CARDINAL'), ('Netflix', 'PRODUCT'), ('14:49', 'TIME'), ('Jun', 'PERSON'), ('13', 'CARDINAL'), ('fourth and final season', 'DATE'), ('Netflix', 'PERSON'), ('Friday', 'DATE'), ('Brian Yorkey', 'PERSON'), (\"Jay Asher's\", 'PERSON'), ('2007', 'DATE'), ('Netflix', 'ORG'), ('2017', 'DATE'), ('the first season', 'DATE'), ('Hannah Baker', 'PERSON'), ('17-year-old', 'DATE'), ('American', 'NORP'), ('2019', 'DATE'), ('Netflix', 'PERSON'), (\"the first season's\", 'DATE'), ('each season', 'DATE'), ('four', 'CARDINAL'), ('13', 'CARDINAL'), ('Netflix', 'GPE'), ('Friday', 'DATE'), ('Reviews', 'PERSON'), ('two and three', 'CARDINAL'), ('Yorkey', 'DATE'), ('13', 'CARDINAL'), ('After Life: Ricky Gervais’', 'WORK_OF_ART'), ('Mental Health Foundation', 'ORG'), ('Netflix', 'ORG'), ('13', 'CARDINAL'), ('Hannah', 'PERSON'), ('season 4', 'DATE'), ('Yorkey told Entertainment Weekly', 'WORK_OF_ART'), ('Yorkey', 'DATE'), ('seasons 1-3', 'DATE'), ('Getty Images', 'PERSON'), ('Brian Yorkey', 'PERSON'), ('Yorkey', 'WORK_OF_ART'), ('Entertainment Weekly', 'ORG'), ('Yorkey', 'WORK_OF_ART'), ('Hannah Baker', 'PERSON'), ('Kmart', 'ORG'), ('99', 'MONEY'), ('4500', 'MONEY'), ('Domino', 'ORG'), ('MasterChef Australia Wife', 'ORG'), ('Missing Matamata', 'PERSON'), ('Morning', 'TIME'), ('October 13', 'DATE'), ('Samoa', 'GPE'), ('Australia', 'GPE'), ('David Campese', 'PERSON'), ('0800 697 8833 © 2020', 'DATE')]\n",
      "Entities [('13', 'CARDINAL'), ('Netflix', 'LOC'), ('National World Coronavirus Climate Change Politics Business prosper Farming Technology Sport Rugby voices &', 'ORG'), ('Travel Homed Life & Style Entertainment', 'ORG'), ('Motoring Food & Wine Oddstuff', 'ORG'), ('Auckland Waikato Bay', 'LOC'), ('Taranaki', 'PERSON'), ('bay manawatu', 'FAC'), ('Weather Quizzes Puzzles Newsletters', 'WORK_OF_ART'), ('mags4gifts', 'GPE'), ('13', 'CARDINAL'), ('Netflix', 'PRODUCT'), ('14:49', 'TIME'), ('Jun', 'PERSON'), ('13', 'CARDINAL'), ('fourth and final season', 'DATE'), ('Netflix', 'PERSON'), ('Friday', 'DATE'), ('Brian Yorkey', 'PERSON'), (\"Jay Asher's\", 'PERSON'), ('2007', 'DATE'), ('Netflix', 'ORG'), ('2017', 'DATE'), ('the first season', 'DATE'), ('Hannah Baker', 'PERSON'), ('17-year-old', 'DATE'), ('American', 'NORP'), ('2019', 'DATE'), ('Netflix', 'PERSON'), (\"the first season's\", 'DATE'), ('each season', 'DATE'), ('four', 'CARDINAL'), ('13', 'CARDINAL'), ('Netflix', 'GPE'), ('Friday', 'DATE'), ('Reviews', 'PERSON'), ('two and three', 'CARDINAL'), ('Yorkey', 'DATE'), ('13', 'CARDINAL'), ('After Life: Ricky Gervais’', 'WORK_OF_ART'), ('Mental Health Foundation', 'ORG'), ('Netflix', 'ORG'), ('13', 'CARDINAL'), ('Hannah', 'PERSON'), ('season 4', 'DATE'), ('Yorkey told Entertainment Weekly', 'WORK_OF_ART'), ('Yorkey', 'DATE'), ('seasons 1-3', 'DATE'), ('Getty Images', 'PERSON'), ('Brian Yorkey', 'PERSON'), ('Yorkey', 'WORK_OF_ART'), ('Entertainment Weekly', 'ORG'), ('Yorkey', 'WORK_OF_ART'), ('Hannah Baker', 'PERSON'), ('Kmart', 'ORG'), ('99', 'MONEY'), ('4500', 'MONEY'), ('Domino', 'ORG'), ('MasterChef Australia Wife', 'ORG'), ('Missing Matamata', 'PERSON'), ('Morning', 'TIME'), ('October 13', 'DATE'), ('Samoa', 'GPE'), ('Australia', 'GPE'), ('David Campese', 'PERSON'), ('0800 697 8833 © 2020', 'DATE')]\n",
      "Entities [('13', 'CARDINAL'), ('Netflix', 'LOC'), ('National World Coronavirus Climate Change Politics Business prosper Farming Technology Sport Rugby voices &', 'ORG'), ('Travel Homed Life & Style Entertainment', 'ORG'), ('Motoring Food & Wine Oddstuff', 'ORG'), ('Auckland Waikato Bay', 'LOC'), ('Taranaki', 'PERSON'), ('bay manawatu', 'FAC'), ('Weather Quizzes Puzzles Newsletters', 'WORK_OF_ART'), ('mags4gifts', 'GPE'), ('13', 'CARDINAL'), ('Netflix', 'PRODUCT'), ('14:49', 'TIME'), ('Jun', 'PERSON'), ('13', 'CARDINAL'), ('fourth and final season', 'DATE'), ('Netflix', 'PERSON'), ('Friday', 'DATE'), ('Brian Yorkey', 'PERSON'), (\"Jay Asher's\", 'PERSON'), ('2007', 'DATE'), ('Netflix', 'ORG'), ('2017', 'DATE'), ('the first season', 'DATE'), ('Hannah Baker', 'PERSON'), ('17-year-old', 'DATE'), ('American', 'NORP'), ('2019', 'DATE'), ('Netflix', 'PERSON'), (\"the first season's\", 'DATE'), ('each season', 'DATE'), ('four', 'CARDINAL'), ('13', 'CARDINAL'), ('Netflix', 'GPE'), ('Friday', 'DATE'), ('Reviews', 'PERSON'), ('two and three', 'CARDINAL'), ('Yorkey', 'DATE'), ('13', 'CARDINAL'), ('After Life: Ricky Gervais’', 'WORK_OF_ART'), ('Mental Health Foundation', 'ORG'), ('Netflix', 'ORG'), ('13', 'CARDINAL'), ('Hannah', 'PERSON'), ('season 4', 'DATE'), ('Yorkey told Entertainment Weekly', 'WORK_OF_ART'), ('Yorkey', 'DATE'), ('seasons 1-3', 'DATE'), ('Getty Images', 'PERSON'), ('Brian Yorkey', 'PERSON'), ('Yorkey', 'WORK_OF_ART'), ('Entertainment Weekly', 'ORG'), ('Yorkey', 'WORK_OF_ART'), ('Hannah Baker', 'PERSON'), ('Kmart', 'ORG'), ('99', 'MONEY'), ('4500', 'MONEY'), ('Domino', 'ORG'), ('MasterChef Australia Wife', 'ORG'), ('Missing Matamata', 'PERSON'), ('Morning', 'TIME'), ('October 13', 'DATE'), ('Samoa', 'GPE'), ('Australia', 'GPE'), ('David Campese', 'PERSON'), ('0800 697 8833 © 2020', 'DATE')]\n",
      "Entities [('13', 'CARDINAL'), ('Netflix', 'LOC'), ('National World Coronavirus Climate Change Politics Business prosper Farming Technology Sport Rugby voices &', 'ORG'), ('Travel Homed Life & Style Entertainment', 'ORG'), ('Motoring Food & Wine Oddstuff', 'ORG'), ('Auckland Waikato Bay', 'LOC'), ('Taranaki', 'PERSON'), ('bay manawatu', 'FAC'), ('Weather Quizzes Puzzles Newsletters', 'WORK_OF_ART'), ('mags4gifts', 'GPE'), ('13', 'CARDINAL'), ('Netflix', 'PRODUCT'), ('14:49', 'TIME'), ('Jun', 'PERSON'), ('13', 'CARDINAL'), ('fourth and final season', 'DATE'), ('Netflix', 'PERSON'), ('Friday', 'DATE'), ('Brian Yorkey', 'PERSON'), (\"Jay Asher's\", 'PERSON'), ('2007', 'DATE'), ('Netflix', 'ORG'), ('2017', 'DATE'), ('the first season', 'DATE'), ('Hannah Baker', 'PERSON'), ('17-year-old', 'DATE'), ('American', 'NORP'), ('2019', 'DATE'), ('Netflix', 'PERSON'), (\"the first season's\", 'DATE'), ('each season', 'DATE'), ('four', 'CARDINAL'), ('13', 'CARDINAL'), ('Netflix', 'GPE'), ('Friday', 'DATE'), ('Reviews', 'PERSON'), ('two and three', 'CARDINAL'), ('Yorkey', 'DATE'), ('13', 'CARDINAL'), ('After Life: Ricky Gervais’', 'WORK_OF_ART'), ('Mental Health Foundation', 'ORG'), ('Netflix', 'ORG'), ('13', 'CARDINAL'), ('Hannah', 'PERSON'), ('season 4', 'DATE'), ('Yorkey told Entertainment Weekly', 'WORK_OF_ART'), ('Yorkey', 'DATE'), ('seasons 1-3', 'DATE'), ('Getty Images', 'PERSON'), ('Brian Yorkey', 'PERSON'), ('Yorkey', 'WORK_OF_ART'), ('Entertainment Weekly', 'ORG'), ('Yorkey', 'WORK_OF_ART'), ('Hannah Baker', 'PERSON'), ('Kmart', 'ORG'), ('99', 'MONEY'), ('4500', 'MONEY'), ('Domino', 'ORG'), ('MasterChef Australia Wife', 'ORG'), ('Missing Matamata', 'PERSON'), ('Morning', 'TIME'), ('October 13', 'DATE'), ('Samoa', 'GPE'), ('Australia', 'GPE'), ('David Campese', 'PERSON'), ('0800 697 8833 © 2020', 'DATE')]\n",
      "Entities [('13', 'CARDINAL'), ('Netflix', 'LOC'), ('National World Coronavirus Climate Change Politics Business prosper Farming Technology Sport Rugby voices &', 'ORG'), ('Travel Homed Life & Style Entertainment', 'ORG'), ('Motoring Food & Wine Oddstuff', 'ORG'), ('Auckland Waikato Bay', 'LOC'), ('Taranaki', 'PERSON'), ('bay manawatu', 'FAC'), ('Weather Quizzes Puzzles Newsletters', 'WORK_OF_ART'), ('mags4gifts', 'GPE'), ('13', 'CARDINAL'), ('Netflix', 'PRODUCT'), ('14:49', 'TIME'), ('Jun', 'PERSON'), ('13', 'CARDINAL'), ('fourth and final season', 'DATE'), ('Netflix', 'PERSON'), ('Friday', 'DATE'), ('Brian Yorkey', 'PERSON'), (\"Jay Asher's\", 'PERSON'), ('2007', 'DATE'), ('Netflix', 'ORG'), ('2017', 'DATE'), ('the first season', 'DATE'), ('Hannah Baker', 'PERSON'), ('17-year-old', 'DATE'), ('American', 'NORP'), ('2019', 'DATE'), ('Netflix', 'PERSON'), (\"the first season's\", 'DATE'), ('each season', 'DATE'), ('four', 'CARDINAL'), ('13', 'CARDINAL'), ('Netflix', 'GPE'), ('Friday', 'DATE'), ('Reviews', 'PERSON'), ('two and three', 'CARDINAL'), ('Yorkey', 'DATE'), ('13', 'CARDINAL'), ('After Life: Ricky Gervais’', 'WORK_OF_ART'), ('Mental Health Foundation', 'ORG'), ('Netflix', 'ORG'), ('13', 'CARDINAL'), ('Hannah', 'PERSON'), ('season 4', 'DATE'), ('Yorkey told Entertainment Weekly', 'WORK_OF_ART'), ('Yorkey', 'DATE'), ('seasons 1-3', 'DATE'), ('Getty Images', 'PERSON'), ('Brian Yorkey', 'PERSON'), ('Yorkey', 'WORK_OF_ART'), ('Entertainment Weekly', 'ORG'), ('Yorkey', 'WORK_OF_ART'), ('Hannah Baker', 'PERSON'), ('Kmart', 'ORG'), ('99', 'MONEY'), ('4500', 'MONEY'), ('Domino', 'ORG'), ('MasterChef Australia Wife', 'ORG'), ('Missing Matamata', 'PERSON'), ('Morning', 'TIME'), ('October 13', 'DATE'), ('Samoa', 'GPE'), ('Australia', 'GPE'), ('David Campese', 'PERSON'), ('0800 697 8833 © 2020', 'DATE')]\n",
      "Entities [('13', 'CARDINAL'), ('Netflix', 'LOC'), ('National World Coronavirus Climate Change Politics Business prosper Farming Technology Sport Rugby voices &', 'ORG'), ('Travel Homed Life & Style Entertainment', 'ORG'), ('Motoring Food & Wine Oddstuff', 'ORG'), ('Auckland Waikato Bay', 'LOC'), ('Taranaki', 'PERSON'), ('bay manawatu', 'FAC'), ('Weather Quizzes Puzzles Newsletters', 'WORK_OF_ART'), ('mags4gifts', 'GPE'), ('13', 'CARDINAL'), ('Netflix', 'PRODUCT'), ('14:49', 'TIME'), ('Jun', 'PERSON'), ('13', 'CARDINAL'), ('fourth and final season', 'DATE'), ('Netflix', 'PERSON'), ('Friday', 'DATE'), ('Brian Yorkey', 'PERSON'), (\"Jay Asher's\", 'PERSON'), ('2007', 'DATE'), ('Netflix', 'ORG'), ('2017', 'DATE'), ('the first season', 'DATE'), ('Hannah Baker', 'PERSON'), ('17-year-old', 'DATE'), ('American', 'NORP'), ('2019', 'DATE'), ('Netflix', 'PERSON'), (\"the first season's\", 'DATE'), ('each season', 'DATE'), ('four', 'CARDINAL'), ('13', 'CARDINAL'), ('Netflix', 'GPE'), ('Friday', 'DATE'), ('Reviews', 'PERSON'), ('two and three', 'CARDINAL'), ('Yorkey', 'DATE'), ('13', 'CARDINAL'), ('After Life: Ricky Gervais’', 'WORK_OF_ART'), ('Mental Health Foundation', 'ORG'), ('Netflix', 'ORG'), ('13', 'CARDINAL'), ('Hannah', 'PERSON'), ('season 4', 'DATE'), ('Yorkey told Entertainment Weekly', 'WORK_OF_ART'), ('Yorkey', 'DATE'), ('seasons 1-3', 'DATE'), ('Getty Images', 'PERSON'), ('Brian Yorkey', 'PERSON'), ('Yorkey', 'WORK_OF_ART'), ('Entertainment Weekly', 'ORG'), ('Yorkey', 'WORK_OF_ART'), ('Hannah Baker', 'PERSON'), ('Kmart', 'ORG'), ('99', 'MONEY'), ('4500', 'MONEY'), ('Domino', 'ORG'), ('MasterChef Australia Wife', 'ORG'), ('Missing Matamata', 'PERSON'), ('Morning', 'TIME'), ('October 13', 'DATE'), ('Samoa', 'GPE'), ('Australia', 'GPE'), ('David Campese', 'PERSON'), ('0800 697 8833 © 2020', 'DATE')]\n",
      "Entities [('13', 'CARDINAL'), ('Netflix', 'LOC'), ('National World Coronavirus Climate Change Politics Business prosper Farming Technology Sport Rugby voices &', 'ORG'), ('Travel Homed Life & Style Entertainment', 'ORG'), ('Motoring Food & Wine Oddstuff', 'ORG'), ('Auckland Waikato Bay', 'LOC'), ('Taranaki', 'PERSON'), ('bay manawatu', 'FAC'), ('Weather Quizzes Puzzles Newsletters', 'WORK_OF_ART'), ('mags4gifts', 'GPE'), ('13', 'CARDINAL'), ('Netflix', 'PRODUCT'), ('14:49', 'TIME'), ('Jun', 'PERSON'), ('13', 'CARDINAL'), ('fourth and final season', 'DATE'), ('Netflix', 'PERSON'), ('Friday', 'DATE'), ('Brian Yorkey', 'PERSON'), (\"Jay Asher's\", 'PERSON'), ('2007', 'DATE'), ('Netflix', 'ORG'), ('2017', 'DATE'), ('the first season', 'DATE'), ('Hannah Baker', 'PERSON'), ('17-year-old', 'DATE'), ('American', 'NORP'), ('2019', 'DATE'), ('Netflix', 'PERSON'), (\"the first season's\", 'DATE'), ('each season', 'DATE'), ('four', 'CARDINAL'), ('13', 'CARDINAL'), ('Netflix', 'GPE'), ('Friday', 'DATE'), ('Reviews', 'PERSON'), ('two and three', 'CARDINAL'), ('Yorkey', 'DATE'), ('13', 'CARDINAL'), ('After Life: Ricky Gervais’', 'WORK_OF_ART'), ('Mental Health Foundation', 'ORG'), ('Netflix', 'ORG'), ('13', 'CARDINAL'), ('Hannah', 'PERSON'), ('season 4', 'DATE'), ('Yorkey told Entertainment Weekly', 'WORK_OF_ART'), ('Yorkey', 'DATE'), ('seasons 1-3', 'DATE'), ('Getty Images', 'PERSON'), ('Brian Yorkey', 'PERSON'), ('Yorkey', 'WORK_OF_ART'), ('Entertainment Weekly', 'ORG'), ('Yorkey', 'WORK_OF_ART'), ('Hannah Baker', 'PERSON'), ('Kmart', 'ORG'), ('99', 'MONEY'), ('4500', 'MONEY'), ('Domino', 'ORG'), ('MasterChef Australia Wife', 'ORG'), ('Missing Matamata', 'PERSON'), ('Morning', 'TIME'), ('October 13', 'DATE'), ('Samoa', 'GPE'), ('Australia', 'GPE'), ('David Campese', 'PERSON'), ('0800 697 8833 © 2020', 'DATE')]\n",
      "Entities [('13', 'CARDINAL'), ('Netflix', 'LOC'), ('National World Coronavirus Climate Change Politics Business prosper Farming Technology Sport Rugby voices &', 'ORG'), ('Travel Homed Life & Style Entertainment', 'ORG'), ('Motoring Food & Wine Oddstuff', 'ORG'), ('Auckland Waikato Bay', 'LOC'), ('Taranaki', 'PERSON'), ('bay manawatu', 'FAC'), ('Weather Quizzes Puzzles Newsletters', 'WORK_OF_ART'), ('mags4gifts', 'GPE'), ('13', 'CARDINAL'), ('Netflix', 'PRODUCT'), ('14:49', 'TIME'), ('Jun', 'PERSON'), ('13', 'CARDINAL'), ('fourth and final season', 'DATE'), ('Netflix', 'PERSON'), ('Friday', 'DATE'), ('Brian Yorkey', 'PERSON'), (\"Jay Asher's\", 'PERSON'), ('2007', 'DATE'), ('Netflix', 'ORG'), ('2017', 'DATE'), ('the first season', 'DATE'), ('Hannah Baker', 'PERSON'), ('17-year-old', 'DATE'), ('American', 'NORP'), ('2019', 'DATE'), ('Netflix', 'PERSON'), (\"the first season's\", 'DATE'), ('each season', 'DATE'), ('four', 'CARDINAL'), ('13', 'CARDINAL'), ('Netflix', 'GPE'), ('Friday', 'DATE'), ('Reviews', 'PERSON'), ('two and three', 'CARDINAL'), ('Yorkey', 'DATE'), ('13', 'CARDINAL'), ('After Life: Ricky Gervais’', 'WORK_OF_ART'), ('Mental Health Foundation', 'ORG'), ('Netflix', 'ORG'), ('13', 'CARDINAL'), ('Hannah', 'PERSON'), ('season 4', 'DATE'), ('Yorkey told Entertainment Weekly', 'WORK_OF_ART'), ('Yorkey', 'DATE'), ('seasons 1-3', 'DATE'), ('Getty Images', 'PERSON'), ('Brian Yorkey', 'PERSON'), ('Yorkey', 'WORK_OF_ART'), ('Entertainment Weekly', 'ORG'), ('Yorkey', 'WORK_OF_ART'), ('Hannah Baker', 'PERSON'), ('Kmart', 'ORG'), ('99', 'MONEY'), ('4500', 'MONEY'), ('Domino', 'ORG'), ('MasterChef Australia Wife', 'ORG'), ('Missing Matamata', 'PERSON'), ('Morning', 'TIME'), ('October 13', 'DATE'), ('Samoa', 'GPE'), ('Australia', 'GPE'), ('David Campese', 'PERSON'), ('0800 697 8833 © 2020', 'DATE')]\n",
      "Entities [('13', 'CARDINAL'), ('Netflix', 'LOC'), ('National World Coronavirus Climate Change Politics Business prosper Farming Technology Sport Rugby voices &', 'ORG'), ('Travel Homed Life & Style Entertainment', 'ORG'), ('Motoring Food & Wine Oddstuff', 'ORG'), ('Auckland Waikato Bay', 'LOC'), ('Taranaki', 'PERSON'), ('bay manawatu', 'FAC'), ('Weather Quizzes Puzzles Newsletters', 'WORK_OF_ART'), ('mags4gifts', 'GPE'), ('13', 'CARDINAL'), ('Netflix', 'PRODUCT'), ('14:49', 'TIME'), ('Jun', 'PERSON'), ('13', 'CARDINAL'), ('fourth and final season', 'DATE'), ('Netflix', 'PERSON'), ('Friday', 'DATE'), ('Brian Yorkey', 'PERSON'), (\"Jay Asher's\", 'PERSON'), ('2007', 'DATE'), ('Netflix', 'ORG'), ('2017', 'DATE'), ('the first season', 'DATE'), ('Hannah Baker', 'PERSON'), ('17-year-old', 'DATE'), ('American', 'NORP'), ('2019', 'DATE'), ('Netflix', 'PERSON'), (\"the first season's\", 'DATE'), ('each season', 'DATE'), ('four', 'CARDINAL'), ('13', 'CARDINAL'), ('Netflix', 'GPE'), ('Friday', 'DATE'), ('Reviews', 'PERSON'), ('two and three', 'CARDINAL'), ('Yorkey', 'DATE'), ('13', 'CARDINAL'), ('After Life: Ricky Gervais’', 'WORK_OF_ART'), ('Mental Health Foundation', 'ORG'), ('Netflix', 'ORG'), ('13', 'CARDINAL'), ('Hannah', 'PERSON'), ('season 4', 'DATE'), ('Yorkey told Entertainment Weekly', 'WORK_OF_ART'), ('Yorkey', 'DATE'), ('seasons 1-3', 'DATE'), ('Getty Images', 'PERSON'), ('Brian Yorkey', 'PERSON'), ('Yorkey', 'WORK_OF_ART'), ('Entertainment Weekly', 'ORG'), ('Yorkey', 'WORK_OF_ART'), ('Hannah Baker', 'PERSON'), ('Kmart', 'ORG'), ('99', 'MONEY'), ('4500', 'MONEY'), ('Domino', 'ORG'), ('MasterChef Australia Wife', 'ORG'), ('Missing Matamata', 'PERSON'), ('Morning', 'TIME'), ('October 13', 'DATE'), ('Samoa', 'GPE'), ('Australia', 'GPE'), ('David Campese', 'PERSON'), ('0800 697 8833 © 2020', 'DATE')]\n",
      "Entities [('13', 'CARDINAL'), ('Netflix', 'LOC'), ('National World Coronavirus Climate Change Politics Business prosper Farming Technology Sport Rugby voices &', 'ORG'), ('Travel Homed Life & Style Entertainment', 'ORG'), ('Motoring Food & Wine Oddstuff', 'ORG'), ('Auckland Waikato Bay', 'LOC'), ('Taranaki', 'PERSON'), ('bay manawatu', 'FAC'), ('Weather Quizzes Puzzles Newsletters', 'WORK_OF_ART'), ('mags4gifts', 'GPE'), ('13', 'CARDINAL'), ('Netflix', 'PRODUCT'), ('14:49', 'TIME'), ('Jun', 'PERSON'), ('13', 'CARDINAL'), ('fourth and final season', 'DATE'), ('Netflix', 'PERSON'), ('Friday', 'DATE'), ('Brian Yorkey', 'PERSON'), (\"Jay Asher's\", 'PERSON'), ('2007', 'DATE'), ('Netflix', 'ORG'), ('2017', 'DATE'), ('the first season', 'DATE'), ('Hannah Baker', 'PERSON'), ('17-year-old', 'DATE'), ('American', 'NORP'), ('2019', 'DATE'), ('Netflix', 'PERSON'), (\"the first season's\", 'DATE'), ('each season', 'DATE'), ('four', 'CARDINAL'), ('13', 'CARDINAL'), ('Netflix', 'GPE'), ('Friday', 'DATE'), ('Reviews', 'PERSON'), ('two and three', 'CARDINAL'), ('Yorkey', 'DATE'), ('13', 'CARDINAL'), ('After Life: Ricky Gervais’', 'WORK_OF_ART'), ('Mental Health Foundation', 'ORG'), ('Netflix', 'ORG'), ('13', 'CARDINAL'), ('Hannah', 'PERSON'), ('season 4', 'DATE'), ('Yorkey told Entertainment Weekly', 'WORK_OF_ART'), ('Yorkey', 'DATE'), ('seasons 1-3', 'DATE'), ('Getty Images', 'PERSON'), ('Brian Yorkey', 'PERSON'), ('Yorkey', 'WORK_OF_ART'), ('Entertainment Weekly', 'ORG'), ('Yorkey', 'WORK_OF_ART'), ('Hannah Baker', 'PERSON'), ('Kmart', 'ORG'), ('99', 'MONEY'), ('4500', 'MONEY'), ('Domino', 'ORG'), ('MasterChef Australia Wife', 'ORG'), ('Missing Matamata', 'PERSON'), ('Morning', 'TIME'), ('October 13', 'DATE'), ('Samoa', 'GPE'), ('Australia', 'GPE'), ('David Campese', 'PERSON'), ('0800 697 8833 © 2020', 'DATE')]\n",
      "Entities [('13', 'CARDINAL'), ('Netflix', 'LOC'), ('National World Coronavirus Climate Change Politics Business prosper Farming Technology Sport Rugby voices &', 'ORG'), ('Travel Homed Life & Style Entertainment', 'ORG'), ('Motoring Food & Wine Oddstuff', 'ORG'), ('Auckland Waikato Bay', 'LOC'), ('Taranaki', 'PERSON'), ('bay manawatu', 'FAC'), ('Weather Quizzes Puzzles Newsletters', 'WORK_OF_ART'), ('mags4gifts', 'GPE'), ('13', 'CARDINAL'), ('Netflix', 'PRODUCT'), ('14:49', 'TIME'), ('Jun', 'PERSON'), ('13', 'CARDINAL'), ('fourth and final season', 'DATE'), ('Netflix', 'PERSON'), ('Friday', 'DATE'), ('Brian Yorkey', 'PERSON'), (\"Jay Asher's\", 'PERSON'), ('2007', 'DATE'), ('Netflix', 'ORG'), ('2017', 'DATE'), ('the first season', 'DATE'), ('Hannah Baker', 'PERSON'), ('17-year-old', 'DATE'), ('American', 'NORP'), ('2019', 'DATE'), ('Netflix', 'PERSON'), (\"the first season's\", 'DATE'), ('each season', 'DATE'), ('four', 'CARDINAL'), ('13', 'CARDINAL'), ('Netflix', 'GPE'), ('Friday', 'DATE'), ('Reviews', 'PERSON'), ('two and three', 'CARDINAL'), ('Yorkey', 'DATE'), ('13', 'CARDINAL'), ('After Life: Ricky Gervais’', 'WORK_OF_ART'), ('Mental Health Foundation', 'ORG'), ('Netflix', 'ORG'), ('13', 'CARDINAL'), ('Hannah', 'PERSON'), ('season 4', 'DATE'), ('Yorkey told Entertainment Weekly', 'WORK_OF_ART'), ('Yorkey', 'DATE'), ('seasons 1-3', 'DATE'), ('Getty Images', 'PERSON'), ('Brian Yorkey', 'PERSON'), ('Yorkey', 'WORK_OF_ART'), ('Entertainment Weekly', 'ORG'), ('Yorkey', 'WORK_OF_ART'), ('Hannah Baker', 'PERSON'), ('Kmart', 'ORG'), ('99', 'MONEY'), ('4500', 'MONEY'), ('Domino', 'ORG'), ('MasterChef Australia Wife', 'ORG'), ('Missing Matamata', 'PERSON'), ('Morning', 'TIME'), ('October 13', 'DATE'), ('Samoa', 'GPE'), ('Australia', 'GPE'), ('David Campese', 'PERSON'), ('0800 697 8833 © 2020', 'DATE')]\n",
      "Entities [('13', 'CARDINAL'), ('Netflix', 'LOC'), ('National World Coronavirus Climate Change Politics Business prosper Farming Technology Sport Rugby voices &', 'ORG'), ('Travel Homed Life & Style Entertainment', 'ORG'), ('Motoring Food & Wine Oddstuff', 'ORG'), ('Auckland Waikato Bay', 'LOC'), ('Taranaki', 'PERSON'), ('bay manawatu', 'FAC'), ('Weather Quizzes Puzzles Newsletters', 'WORK_OF_ART'), ('mags4gifts', 'GPE'), ('13', 'CARDINAL'), ('Netflix', 'PRODUCT'), ('14:49', 'TIME'), ('Jun', 'PERSON'), ('13', 'CARDINAL'), ('fourth and final season', 'DATE'), ('Netflix', 'PERSON'), ('Friday', 'DATE'), ('Brian Yorkey', 'PERSON'), (\"Jay Asher's\", 'PERSON'), ('2007', 'DATE'), ('Netflix', 'ORG'), ('2017', 'DATE'), ('the first season', 'DATE'), ('Hannah Baker', 'PERSON'), ('17-year-old', 'DATE'), ('American', 'NORP'), ('2019', 'DATE'), ('Netflix', 'PERSON'), (\"the first season's\", 'DATE'), ('each season', 'DATE'), ('four', 'CARDINAL'), ('13', 'CARDINAL'), ('Netflix', 'GPE'), ('Friday', 'DATE'), ('Reviews', 'PERSON'), ('two and three', 'CARDINAL'), ('Yorkey', 'DATE'), ('13', 'CARDINAL'), ('After Life: Ricky Gervais’', 'WORK_OF_ART'), ('Mental Health Foundation', 'ORG'), ('Netflix', 'ORG'), ('13', 'CARDINAL'), ('Hannah', 'PERSON'), ('season 4', 'DATE'), ('Yorkey told Entertainment Weekly', 'WORK_OF_ART'), ('Yorkey', 'DATE'), ('seasons 1-3', 'DATE'), ('Getty Images', 'PERSON'), ('Brian Yorkey', 'PERSON'), ('Yorkey', 'WORK_OF_ART'), ('Entertainment Weekly', 'ORG'), ('Yorkey', 'WORK_OF_ART'), ('Hannah Baker', 'PERSON'), ('Kmart', 'ORG'), ('99', 'MONEY'), ('4500', 'MONEY'), ('Domino', 'ORG'), ('MasterChef Australia Wife', 'ORG'), ('Missing Matamata', 'PERSON'), ('Morning', 'TIME'), ('October 13', 'DATE'), ('Samoa', 'GPE'), ('Australia', 'GPE'), ('David Campese', 'PERSON'), ('0800 697 8833 © 2020', 'DATE')]\n",
      "Entities [('13', 'CARDINAL'), ('Netflix', 'LOC'), ('National World Coronavirus Climate Change Politics Business prosper Farming Technology Sport Rugby voices &', 'ORG'), ('Travel Homed Life & Style Entertainment', 'ORG'), ('Motoring Food & Wine Oddstuff', 'ORG'), ('Auckland Waikato Bay', 'LOC'), ('Taranaki', 'PERSON'), ('bay manawatu', 'FAC'), ('Weather Quizzes Puzzles Newsletters', 'WORK_OF_ART'), ('mags4gifts', 'GPE'), ('13', 'CARDINAL'), ('Netflix', 'PRODUCT'), ('14:49', 'TIME'), ('Jun', 'PERSON'), ('13', 'CARDINAL'), ('fourth and final season', 'DATE'), ('Netflix', 'PERSON'), ('Friday', 'DATE'), ('Brian Yorkey', 'PERSON'), (\"Jay Asher's\", 'PERSON'), ('2007', 'DATE'), ('Netflix', 'ORG'), ('2017', 'DATE'), ('the first season', 'DATE'), ('Hannah Baker', 'PERSON'), ('17-year-old', 'DATE'), ('American', 'NORP'), ('2019', 'DATE'), ('Netflix', 'PERSON'), (\"the first season's\", 'DATE'), ('each season', 'DATE'), ('four', 'CARDINAL'), ('13', 'CARDINAL'), ('Netflix', 'GPE'), ('Friday', 'DATE'), ('Reviews', 'PERSON'), ('two and three', 'CARDINAL'), ('Yorkey', 'DATE'), ('13', 'CARDINAL'), ('After Life: Ricky Gervais’', 'WORK_OF_ART'), ('Mental Health Foundation', 'ORG'), ('Netflix', 'ORG'), ('13', 'CARDINAL'), ('Hannah', 'PERSON'), ('season 4', 'DATE'), ('Yorkey told Entertainment Weekly', 'WORK_OF_ART'), ('Yorkey', 'DATE'), ('seasons 1-3', 'DATE'), ('Getty Images', 'PERSON'), ('Brian Yorkey', 'PERSON'), ('Yorkey', 'WORK_OF_ART'), ('Entertainment Weekly', 'ORG'), ('Yorkey', 'WORK_OF_ART'), ('Hannah Baker', 'PERSON'), ('Kmart', 'ORG'), ('99', 'MONEY'), ('4500', 'MONEY'), ('Domino', 'ORG'), ('MasterChef Australia Wife', 'ORG'), ('Missing Matamata', 'PERSON'), ('Morning', 'TIME'), ('October 13', 'DATE'), ('Samoa', 'GPE'), ('Australia', 'GPE'), ('David Campese', 'PERSON'), ('0800 697 8833 © 2020', 'DATE')]\n",
      "Entities [('13', 'CARDINAL'), ('Netflix', 'LOC'), ('National World Coronavirus Climate Change Politics Business prosper Farming Technology Sport Rugby voices &', 'ORG'), ('Travel Homed Life & Style Entertainment', 'ORG'), ('Motoring Food & Wine Oddstuff', 'ORG'), ('Auckland Waikato Bay', 'LOC'), ('Taranaki', 'PERSON'), ('bay manawatu', 'FAC'), ('Weather Quizzes Puzzles Newsletters', 'WORK_OF_ART'), ('mags4gifts', 'GPE'), ('13', 'CARDINAL'), ('Netflix', 'PRODUCT'), ('14:49', 'TIME'), ('Jun', 'PERSON'), ('13', 'CARDINAL'), ('fourth and final season', 'DATE'), ('Netflix', 'PERSON'), ('Friday', 'DATE'), ('Brian Yorkey', 'PERSON'), (\"Jay Asher's\", 'PERSON'), ('2007', 'DATE'), ('Netflix', 'ORG'), ('2017', 'DATE'), ('the first season', 'DATE'), ('Hannah Baker', 'PERSON'), ('17-year-old', 'DATE'), ('American', 'NORP'), ('2019', 'DATE'), ('Netflix', 'PERSON'), (\"the first season's\", 'DATE'), ('each season', 'DATE'), ('four', 'CARDINAL'), ('13', 'CARDINAL'), ('Netflix', 'GPE'), ('Friday', 'DATE'), ('Reviews', 'PERSON'), ('two and three', 'CARDINAL'), ('Yorkey', 'DATE'), ('13', 'CARDINAL'), ('After Life: Ricky Gervais’', 'WORK_OF_ART'), ('Mental Health Foundation', 'ORG'), ('Netflix', 'ORG'), ('13', 'CARDINAL'), ('Hannah', 'PERSON'), ('season 4', 'DATE'), ('Yorkey told Entertainment Weekly', 'WORK_OF_ART'), ('Yorkey', 'DATE'), ('seasons 1-3', 'DATE'), ('Getty Images', 'PERSON'), ('Brian Yorkey', 'PERSON'), ('Yorkey', 'WORK_OF_ART'), ('Entertainment Weekly', 'ORG'), ('Yorkey', 'WORK_OF_ART'), ('Hannah Baker', 'PERSON'), ('Kmart', 'ORG'), ('99', 'MONEY'), ('4500', 'MONEY'), ('Domino', 'ORG'), ('MasterChef Australia Wife', 'ORG'), ('Missing Matamata', 'PERSON'), ('Morning', 'TIME'), ('October 13', 'DATE'), ('Samoa', 'GPE'), ('Australia', 'GPE'), ('David Campese', 'PERSON'), ('0800 697 8833 © 2020', 'DATE')]\n",
      "Entities [('13', 'CARDINAL'), ('Netflix', 'LOC'), ('National World Coronavirus Climate Change Politics Business prosper Farming Technology Sport Rugby voices &', 'ORG'), ('Travel Homed Life & Style Entertainment', 'ORG'), ('Motoring Food & Wine Oddstuff', 'ORG'), ('Auckland Waikato Bay', 'LOC'), ('Taranaki', 'PERSON'), ('bay manawatu', 'FAC'), ('Weather Quizzes Puzzles Newsletters', 'WORK_OF_ART'), ('mags4gifts', 'GPE'), ('13', 'CARDINAL'), ('Netflix', 'PRODUCT'), ('14:49', 'TIME'), ('Jun', 'PERSON'), ('13', 'CARDINAL'), ('fourth and final season', 'DATE'), ('Netflix', 'PERSON'), ('Friday', 'DATE'), ('Brian Yorkey', 'PERSON'), (\"Jay Asher's\", 'PERSON'), ('2007', 'DATE'), ('Netflix', 'ORG'), ('2017', 'DATE'), ('the first season', 'DATE'), ('Hannah Baker', 'PERSON'), ('17-year-old', 'DATE'), ('American', 'NORP'), ('2019', 'DATE'), ('Netflix', 'PERSON'), (\"the first season's\", 'DATE'), ('each season', 'DATE'), ('four', 'CARDINAL'), ('13', 'CARDINAL'), ('Netflix', 'GPE'), ('Friday', 'DATE'), ('Reviews', 'PERSON'), ('two and three', 'CARDINAL'), ('Yorkey', 'DATE'), ('13', 'CARDINAL'), ('After Life: Ricky Gervais’', 'WORK_OF_ART'), ('Mental Health Foundation', 'ORG'), ('Netflix', 'ORG'), ('13', 'CARDINAL'), ('Hannah', 'PERSON'), ('season 4', 'DATE'), ('Yorkey told Entertainment Weekly', 'WORK_OF_ART'), ('Yorkey', 'DATE'), ('seasons 1-3', 'DATE'), ('Getty Images', 'PERSON'), ('Brian Yorkey', 'PERSON'), ('Yorkey', 'WORK_OF_ART'), ('Entertainment Weekly', 'ORG'), ('Yorkey', 'WORK_OF_ART'), ('Hannah Baker', 'PERSON'), ('Kmart', 'ORG'), ('99', 'MONEY'), ('4500', 'MONEY'), ('Domino', 'ORG'), ('MasterChef Australia Wife', 'ORG'), ('Missing Matamata', 'PERSON'), ('Morning', 'TIME'), ('October 13', 'DATE'), ('Samoa', 'GPE'), ('Australia', 'GPE'), ('David Campese', 'PERSON'), ('0800 697 8833 © 2020', 'DATE')]\n",
      "Entities [('13', 'CARDINAL'), ('Netflix', 'LOC'), ('National World Coronavirus Climate Change Politics Business prosper Farming Technology Sport Rugby voices &', 'ORG'), ('Travel Homed Life & Style Entertainment', 'ORG'), ('Motoring Food & Wine Oddstuff', 'ORG'), ('Auckland Waikato Bay', 'LOC'), ('Taranaki', 'PERSON'), ('bay manawatu', 'FAC'), ('Weather Quizzes Puzzles Newsletters', 'WORK_OF_ART'), ('mags4gifts', 'GPE'), ('13', 'CARDINAL'), ('Netflix', 'PRODUCT'), ('14:49', 'TIME'), ('Jun', 'PERSON'), ('13', 'CARDINAL'), ('fourth and final season', 'DATE'), ('Netflix', 'PERSON'), ('Friday', 'DATE'), ('Brian Yorkey', 'PERSON'), (\"Jay Asher's\", 'PERSON'), ('2007', 'DATE'), ('Netflix', 'ORG'), ('2017', 'DATE'), ('the first season', 'DATE'), ('Hannah Baker', 'PERSON'), ('17-year-old', 'DATE'), ('American', 'NORP'), ('2019', 'DATE'), ('Netflix', 'PERSON'), (\"the first season's\", 'DATE'), ('each season', 'DATE'), ('four', 'CARDINAL'), ('13', 'CARDINAL'), ('Netflix', 'GPE'), ('Friday', 'DATE'), ('Reviews', 'PERSON'), ('two and three', 'CARDINAL'), ('Yorkey', 'DATE'), ('13', 'CARDINAL'), ('After Life: Ricky Gervais’', 'WORK_OF_ART'), ('Mental Health Foundation', 'ORG'), ('Netflix', 'ORG'), ('13', 'CARDINAL'), ('Hannah', 'PERSON'), ('season 4', 'DATE'), ('Yorkey told Entertainment Weekly', 'WORK_OF_ART'), ('Yorkey', 'DATE'), ('seasons 1-3', 'DATE'), ('Getty Images', 'PERSON'), ('Brian Yorkey', 'PERSON'), ('Yorkey', 'WORK_OF_ART'), ('Entertainment Weekly', 'ORG'), ('Yorkey', 'WORK_OF_ART'), ('Hannah Baker', 'PERSON'), ('Kmart', 'ORG'), ('99', 'MONEY'), ('4500', 'MONEY'), ('Domino', 'ORG'), ('MasterChef Australia Wife', 'ORG'), ('Missing Matamata', 'PERSON'), ('Morning', 'TIME'), ('October 13', 'DATE'), ('Samoa', 'GPE'), ('Australia', 'GPE'), ('David Campese', 'PERSON'), ('0800 697 8833 © 2020', 'DATE')]\n",
      "Entities [('13', 'CARDINAL'), ('Netflix', 'LOC'), ('National World Coronavirus Climate Change Politics Business prosper Farming Technology Sport Rugby voices &', 'ORG'), ('Travel Homed Life & Style Entertainment', 'ORG'), ('Motoring Food & Wine Oddstuff', 'ORG'), ('Auckland Waikato Bay', 'LOC'), ('Taranaki', 'PERSON'), ('bay manawatu', 'FAC'), ('Weather Quizzes Puzzles Newsletters', 'WORK_OF_ART'), ('mags4gifts', 'GPE'), ('13', 'CARDINAL'), ('Netflix', 'PRODUCT'), ('14:49', 'TIME'), ('Jun', 'PERSON'), ('13', 'CARDINAL'), ('fourth and final season', 'DATE'), ('Netflix', 'PERSON'), ('Friday', 'DATE'), ('Brian Yorkey', 'PERSON'), (\"Jay Asher's\", 'PERSON'), ('2007', 'DATE'), ('Netflix', 'ORG'), ('2017', 'DATE'), ('the first season', 'DATE'), ('Hannah Baker', 'PERSON'), ('17-year-old', 'DATE'), ('American', 'NORP'), ('2019', 'DATE'), ('Netflix', 'PERSON'), (\"the first season's\", 'DATE'), ('each season', 'DATE'), ('four', 'CARDINAL'), ('13', 'CARDINAL'), ('Netflix', 'GPE'), ('Friday', 'DATE'), ('Reviews', 'PERSON'), ('two and three', 'CARDINAL'), ('Yorkey', 'DATE'), ('13', 'CARDINAL'), ('After Life: Ricky Gervais’', 'WORK_OF_ART'), ('Mental Health Foundation', 'ORG'), ('Netflix', 'ORG'), ('13', 'CARDINAL'), ('Hannah', 'PERSON'), ('season 4', 'DATE'), ('Yorkey told Entertainment Weekly', 'WORK_OF_ART'), ('Yorkey', 'DATE'), ('seasons 1-3', 'DATE'), ('Getty Images', 'PERSON'), ('Brian Yorkey', 'PERSON'), ('Yorkey', 'WORK_OF_ART'), ('Entertainment Weekly', 'ORG'), ('Yorkey', 'WORK_OF_ART'), ('Hannah Baker', 'PERSON'), ('Kmart', 'ORG'), ('99', 'MONEY'), ('4500', 'MONEY'), ('Domino', 'ORG'), ('MasterChef Australia Wife', 'ORG'), ('Missing Matamata', 'PERSON'), ('Morning', 'TIME'), ('October 13', 'DATE'), ('Samoa', 'GPE'), ('Australia', 'GPE'), ('David Campese', 'PERSON'), ('0800 697 8833 © 2020', 'DATE')]\n",
      "Entities [('13', 'CARDINAL'), ('Netflix', 'LOC'), ('National World Coronavirus Climate Change Politics Business prosper Farming Technology Sport Rugby voices &', 'ORG'), ('Travel Homed Life & Style Entertainment', 'ORG'), ('Motoring Food & Wine Oddstuff', 'ORG'), ('Auckland Waikato Bay', 'LOC'), ('Taranaki', 'PERSON'), ('bay manawatu', 'FAC'), ('Weather Quizzes Puzzles Newsletters', 'WORK_OF_ART'), ('mags4gifts', 'GPE'), ('13', 'CARDINAL'), ('Netflix', 'PRODUCT'), ('14:49', 'TIME'), ('Jun', 'PERSON'), ('13', 'CARDINAL'), ('fourth and final season', 'DATE'), ('Netflix', 'PERSON'), ('Friday', 'DATE'), ('Brian Yorkey', 'PERSON'), (\"Jay Asher's\", 'PERSON'), ('2007', 'DATE'), ('Netflix', 'ORG'), ('2017', 'DATE'), ('the first season', 'DATE'), ('Hannah Baker', 'PERSON'), ('17-year-old', 'DATE'), ('American', 'NORP'), ('2019', 'DATE'), ('Netflix', 'PERSON'), (\"the first season's\", 'DATE'), ('each season', 'DATE'), ('four', 'CARDINAL'), ('13', 'CARDINAL'), ('Netflix', 'GPE'), ('Friday', 'DATE'), ('Reviews', 'PERSON'), ('two and three', 'CARDINAL'), ('Yorkey', 'DATE'), ('13', 'CARDINAL'), ('After Life: Ricky Gervais’', 'WORK_OF_ART'), ('Mental Health Foundation', 'ORG'), ('Netflix', 'ORG'), ('13', 'CARDINAL'), ('Hannah', 'PERSON'), ('season 4', 'DATE'), ('Yorkey told Entertainment Weekly', 'WORK_OF_ART'), ('Yorkey', 'DATE'), ('seasons 1-3', 'DATE'), ('Getty Images', 'PERSON'), ('Brian Yorkey', 'PERSON'), ('Yorkey', 'WORK_OF_ART'), ('Entertainment Weekly', 'ORG'), ('Yorkey', 'WORK_OF_ART'), ('Hannah Baker', 'PERSON'), ('Kmart', 'ORG'), ('99', 'MONEY'), ('4500', 'MONEY'), ('Domino', 'ORG'), ('MasterChef Australia Wife', 'ORG'), ('Missing Matamata', 'PERSON'), ('Morning', 'TIME'), ('October 13', 'DATE'), ('Samoa', 'GPE'), ('Australia', 'GPE'), ('David Campese', 'PERSON'), ('0800 697 8833 © 2020', 'DATE')]\n",
      "Entities [('13', 'CARDINAL'), ('Netflix', 'LOC'), ('National World Coronavirus Climate Change Politics Business prosper Farming Technology Sport Rugby voices &', 'ORG'), ('Travel Homed Life & Style Entertainment', 'ORG'), ('Motoring Food & Wine Oddstuff', 'ORG'), ('Auckland Waikato Bay', 'LOC'), ('Taranaki', 'PERSON'), ('bay manawatu', 'FAC'), ('Weather Quizzes Puzzles Newsletters', 'WORK_OF_ART'), ('mags4gifts', 'GPE'), ('13', 'CARDINAL'), ('Netflix', 'PRODUCT'), ('14:49', 'TIME'), ('Jun', 'PERSON'), ('13', 'CARDINAL'), ('fourth and final season', 'DATE'), ('Netflix', 'PERSON'), ('Friday', 'DATE'), ('Brian Yorkey', 'PERSON'), (\"Jay Asher's\", 'PERSON'), ('2007', 'DATE'), ('Netflix', 'ORG'), ('2017', 'DATE'), ('the first season', 'DATE'), ('Hannah Baker', 'PERSON'), ('17-year-old', 'DATE'), ('American', 'NORP'), ('2019', 'DATE'), ('Netflix', 'PERSON'), (\"the first season's\", 'DATE'), ('each season', 'DATE'), ('four', 'CARDINAL'), ('13', 'CARDINAL'), ('Netflix', 'GPE'), ('Friday', 'DATE'), ('Reviews', 'PERSON'), ('two and three', 'CARDINAL'), ('Yorkey', 'DATE'), ('13', 'CARDINAL'), ('After Life: Ricky Gervais’', 'WORK_OF_ART'), ('Mental Health Foundation', 'ORG'), ('Netflix', 'ORG'), ('13', 'CARDINAL'), ('Hannah', 'PERSON'), ('season 4', 'DATE'), ('Yorkey told Entertainment Weekly', 'WORK_OF_ART'), ('Yorkey', 'DATE'), ('seasons 1-3', 'DATE'), ('Getty Images', 'PERSON'), ('Brian Yorkey', 'PERSON'), ('Yorkey', 'WORK_OF_ART'), ('Entertainment Weekly', 'ORG'), ('Yorkey', 'WORK_OF_ART'), ('Hannah Baker', 'PERSON'), ('Kmart', 'ORG'), ('99', 'MONEY'), ('4500', 'MONEY'), ('Domino', 'ORG'), ('MasterChef Australia Wife', 'ORG'), ('Missing Matamata', 'PERSON'), ('Morning', 'TIME'), ('October 13', 'DATE'), ('Samoa', 'GPE'), ('Australia', 'GPE'), ('David Campese', 'PERSON'), ('0800 697 8833 © 2020', 'DATE')]\n",
      "Entities [('13', 'CARDINAL'), ('Netflix', 'LOC'), ('National World Coronavirus Climate Change Politics Business prosper Farming Technology Sport Rugby voices &', 'ORG'), ('Travel Homed Life & Style Entertainment', 'ORG'), ('Motoring Food & Wine Oddstuff', 'ORG'), ('Auckland Waikato Bay', 'LOC'), ('Taranaki', 'PERSON'), ('bay manawatu', 'FAC'), ('Weather Quizzes Puzzles Newsletters', 'WORK_OF_ART'), ('mags4gifts', 'GPE'), ('13', 'CARDINAL'), ('Netflix', 'PRODUCT'), ('14:49', 'TIME'), ('Jun', 'PERSON'), ('13', 'CARDINAL'), ('fourth and final season', 'DATE'), ('Netflix', 'PERSON'), ('Friday', 'DATE'), ('Brian Yorkey', 'PERSON'), (\"Jay Asher's\", 'PERSON'), ('2007', 'DATE'), ('Netflix', 'ORG'), ('2017', 'DATE'), ('the first season', 'DATE'), ('Hannah Baker', 'PERSON'), ('17-year-old', 'DATE'), ('American', 'NORP'), ('2019', 'DATE'), ('Netflix', 'PERSON'), (\"the first season's\", 'DATE'), ('each season', 'DATE'), ('four', 'CARDINAL'), ('13', 'CARDINAL'), ('Netflix', 'GPE'), ('Friday', 'DATE'), ('Reviews', 'PERSON'), ('two and three', 'CARDINAL'), ('Yorkey', 'DATE'), ('13', 'CARDINAL'), ('After Life: Ricky Gervais’', 'WORK_OF_ART'), ('Mental Health Foundation', 'ORG'), ('Netflix', 'ORG'), ('13', 'CARDINAL'), ('Hannah', 'PERSON'), ('season 4', 'DATE'), ('Yorkey told Entertainment Weekly', 'WORK_OF_ART'), ('Yorkey', 'DATE'), ('seasons 1-3', 'DATE'), ('Getty Images', 'PERSON'), ('Brian Yorkey', 'PERSON'), ('Yorkey', 'WORK_OF_ART'), ('Entertainment Weekly', 'ORG'), ('Yorkey', 'WORK_OF_ART'), ('Hannah Baker', 'PERSON'), ('Kmart', 'ORG'), ('99', 'MONEY'), ('4500', 'MONEY'), ('Domino', 'ORG'), ('MasterChef Australia Wife', 'ORG'), ('Missing Matamata', 'PERSON'), ('Morning', 'TIME'), ('October 13', 'DATE'), ('Samoa', 'GPE'), ('Australia', 'GPE'), ('David Campese', 'PERSON'), ('0800 697 8833 © 2020', 'DATE')]\n",
      "Entities [('13', 'CARDINAL'), ('Netflix', 'LOC'), ('National World Coronavirus Climate Change Politics Business prosper Farming Technology Sport Rugby voices &', 'ORG'), ('Travel Homed Life & Style Entertainment', 'ORG'), ('Motoring Food & Wine Oddstuff', 'ORG'), ('Auckland Waikato Bay', 'LOC'), ('Taranaki', 'PERSON'), ('bay manawatu', 'FAC'), ('Weather Quizzes Puzzles Newsletters', 'WORK_OF_ART'), ('mags4gifts', 'GPE'), ('13', 'CARDINAL'), ('Netflix', 'PRODUCT'), ('14:49', 'TIME'), ('Jun', 'PERSON'), ('13', 'CARDINAL'), ('fourth and final season', 'DATE'), ('Netflix', 'PERSON'), ('Friday', 'DATE'), ('Brian Yorkey', 'PERSON'), (\"Jay Asher's\", 'PERSON'), ('2007', 'DATE'), ('Netflix', 'ORG'), ('2017', 'DATE'), ('the first season', 'DATE'), ('Hannah Baker', 'PERSON'), ('17-year-old', 'DATE'), ('American', 'NORP'), ('2019', 'DATE'), ('Netflix', 'PERSON'), (\"the first season's\", 'DATE'), ('each season', 'DATE'), ('four', 'CARDINAL'), ('13', 'CARDINAL'), ('Netflix', 'GPE'), ('Friday', 'DATE'), ('Reviews', 'PERSON'), ('two and three', 'CARDINAL'), ('Yorkey', 'DATE'), ('13', 'CARDINAL'), ('After Life: Ricky Gervais’', 'WORK_OF_ART'), ('Mental Health Foundation', 'ORG'), ('Netflix', 'ORG'), ('13', 'CARDINAL'), ('Hannah', 'PERSON'), ('season 4', 'DATE'), ('Yorkey told Entertainment Weekly', 'WORK_OF_ART'), ('Yorkey', 'DATE'), ('seasons 1-3', 'DATE'), ('Getty Images', 'PERSON'), ('Brian Yorkey', 'PERSON'), ('Yorkey', 'WORK_OF_ART'), ('Entertainment Weekly', 'ORG'), ('Yorkey', 'WORK_OF_ART'), ('Hannah Baker', 'PERSON'), ('Kmart', 'ORG'), ('99', 'MONEY'), ('4500', 'MONEY'), ('Domino', 'ORG'), ('MasterChef Australia Wife', 'ORG'), ('Missing Matamata', 'PERSON'), ('Morning', 'TIME'), ('October 13', 'DATE'), ('Samoa', 'GPE'), ('Australia', 'GPE'), ('David Campese', 'PERSON'), ('0800 697 8833 © 2020', 'DATE')]\n",
      "Entities [('13', 'CARDINAL'), ('Netflix', 'LOC'), ('National World Coronavirus Climate Change Politics Business prosper Farming Technology Sport Rugby voices &', 'ORG'), ('Travel Homed Life & Style Entertainment', 'ORG'), ('Motoring Food & Wine Oddstuff', 'ORG'), ('Auckland Waikato Bay', 'LOC'), ('Taranaki', 'PERSON'), ('bay manawatu', 'FAC'), ('Weather Quizzes Puzzles Newsletters', 'WORK_OF_ART'), ('mags4gifts', 'GPE'), ('13', 'CARDINAL'), ('Netflix', 'PRODUCT'), ('14:49', 'TIME'), ('Jun', 'PERSON'), ('13', 'CARDINAL'), ('fourth and final season', 'DATE'), ('Netflix', 'PERSON'), ('Friday', 'DATE'), ('Brian Yorkey', 'PERSON'), (\"Jay Asher's\", 'PERSON'), ('2007', 'DATE'), ('Netflix', 'ORG'), ('2017', 'DATE'), ('the first season', 'DATE'), ('Hannah Baker', 'PERSON'), ('17-year-old', 'DATE'), ('American', 'NORP'), ('2019', 'DATE'), ('Netflix', 'PERSON'), (\"the first season's\", 'DATE'), ('each season', 'DATE'), ('four', 'CARDINAL'), ('13', 'CARDINAL'), ('Netflix', 'GPE'), ('Friday', 'DATE'), ('Reviews', 'PERSON'), ('two and three', 'CARDINAL'), ('Yorkey', 'DATE'), ('13', 'CARDINAL'), ('After Life: Ricky Gervais’', 'WORK_OF_ART'), ('Mental Health Foundation', 'ORG'), ('Netflix', 'ORG'), ('13', 'CARDINAL'), ('Hannah', 'PERSON'), ('season 4', 'DATE'), ('Yorkey told Entertainment Weekly', 'WORK_OF_ART'), ('Yorkey', 'DATE'), ('seasons 1-3', 'DATE'), ('Getty Images', 'PERSON'), ('Brian Yorkey', 'PERSON'), ('Yorkey', 'WORK_OF_ART'), ('Entertainment Weekly', 'ORG'), ('Yorkey', 'WORK_OF_ART'), ('Hannah Baker', 'PERSON'), ('Kmart', 'ORG'), ('99', 'MONEY'), ('4500', 'MONEY'), ('Domino', 'ORG'), ('MasterChef Australia Wife', 'ORG'), ('Missing Matamata', 'PERSON'), ('Morning', 'TIME'), ('October 13', 'DATE'), ('Samoa', 'GPE'), ('Australia', 'GPE'), ('David Campese', 'PERSON'), ('0800 697 8833 © 2020', 'DATE')]\n",
      "Entities [('13', 'CARDINAL'), ('Netflix', 'LOC'), ('National World Coronavirus Climate Change Politics Business prosper Farming Technology Sport Rugby voices &', 'ORG'), ('Travel Homed Life & Style Entertainment', 'ORG'), ('Motoring Food & Wine Oddstuff', 'ORG'), ('Auckland Waikato Bay', 'LOC'), ('Taranaki', 'PERSON'), ('bay manawatu', 'FAC'), ('Weather Quizzes Puzzles Newsletters', 'WORK_OF_ART'), ('mags4gifts', 'GPE'), ('13', 'CARDINAL'), ('Netflix', 'PRODUCT'), ('14:49', 'TIME'), ('Jun', 'PERSON'), ('13', 'CARDINAL'), ('fourth and final season', 'DATE'), ('Netflix', 'PERSON'), ('Friday', 'DATE'), ('Brian Yorkey', 'PERSON'), (\"Jay Asher's\", 'PERSON'), ('2007', 'DATE'), ('Netflix', 'ORG'), ('2017', 'DATE'), ('the first season', 'DATE'), ('Hannah Baker', 'PERSON'), ('17-year-old', 'DATE'), ('American', 'NORP'), ('2019', 'DATE'), ('Netflix', 'PERSON'), (\"the first season's\", 'DATE'), ('each season', 'DATE'), ('four', 'CARDINAL'), ('13', 'CARDINAL'), ('Netflix', 'GPE'), ('Friday', 'DATE'), ('Reviews', 'PERSON'), ('two and three', 'CARDINAL'), ('Yorkey', 'DATE'), ('13', 'CARDINAL'), ('After Life: Ricky Gervais’', 'WORK_OF_ART'), ('Mental Health Foundation', 'ORG'), ('Netflix', 'ORG'), ('13', 'CARDINAL'), ('Hannah', 'PERSON'), ('season 4', 'DATE'), ('Yorkey told Entertainment Weekly', 'WORK_OF_ART'), ('Yorkey', 'DATE'), ('seasons 1-3', 'DATE'), ('Getty Images', 'PERSON'), ('Brian Yorkey', 'PERSON'), ('Yorkey', 'WORK_OF_ART'), ('Entertainment Weekly', 'ORG'), ('Yorkey', 'WORK_OF_ART'), ('Hannah Baker', 'PERSON'), ('Kmart', 'ORG'), ('99', 'MONEY'), ('4500', 'MONEY'), ('Domino', 'ORG'), ('MasterChef Australia Wife', 'ORG'), ('Missing Matamata', 'PERSON'), ('Morning', 'TIME'), ('October 13', 'DATE'), ('Samoa', 'GPE'), ('Australia', 'GPE'), ('David Campese', 'PERSON'), ('0800 697 8833 © 2020', 'DATE')]\n",
      "Entities [('13', 'CARDINAL'), ('Netflix', 'LOC'), ('National World Coronavirus Climate Change Politics Business prosper Farming Technology Sport Rugby voices &', 'ORG'), ('Travel Homed Life & Style Entertainment', 'ORG'), ('Motoring Food & Wine Oddstuff', 'ORG'), ('Auckland Waikato Bay', 'LOC'), ('Taranaki', 'PERSON'), ('bay manawatu', 'FAC'), ('Weather Quizzes Puzzles Newsletters', 'WORK_OF_ART'), ('mags4gifts', 'GPE'), ('13', 'CARDINAL'), ('Netflix', 'PRODUCT'), ('14:49', 'TIME'), ('Jun', 'PERSON'), ('13', 'CARDINAL'), ('fourth and final season', 'DATE'), ('Netflix', 'PERSON'), ('Friday', 'DATE'), ('Brian Yorkey', 'PERSON'), (\"Jay Asher's\", 'PERSON'), ('2007', 'DATE'), ('Netflix', 'ORG'), ('2017', 'DATE'), ('the first season', 'DATE'), ('Hannah Baker', 'PERSON'), ('17-year-old', 'DATE'), ('American', 'NORP'), ('2019', 'DATE'), ('Netflix', 'PERSON'), (\"the first season's\", 'DATE'), ('each season', 'DATE'), ('four', 'CARDINAL'), ('13', 'CARDINAL'), ('Netflix', 'GPE'), ('Friday', 'DATE'), ('Reviews', 'PERSON'), ('two and three', 'CARDINAL'), ('Yorkey', 'DATE'), ('13', 'CARDINAL'), ('After Life: Ricky Gervais’', 'WORK_OF_ART'), ('Mental Health Foundation', 'ORG'), ('Netflix', 'ORG'), ('13', 'CARDINAL'), ('Hannah', 'PERSON'), ('season 4', 'DATE'), ('Yorkey told Entertainment Weekly', 'WORK_OF_ART'), ('Yorkey', 'DATE'), ('seasons 1-3', 'DATE'), ('Getty Images', 'PERSON'), ('Brian Yorkey', 'PERSON'), ('Yorkey', 'WORK_OF_ART'), ('Entertainment Weekly', 'ORG'), ('Yorkey', 'WORK_OF_ART'), ('Hannah Baker', 'PERSON'), ('Kmart', 'ORG'), ('99', 'MONEY'), ('4500', 'MONEY'), ('Domino', 'ORG'), ('MasterChef Australia Wife', 'ORG'), ('Missing Matamata', 'PERSON'), ('Morning', 'TIME'), ('October 13', 'DATE'), ('Samoa', 'GPE'), ('Australia', 'GPE'), ('David Campese', 'PERSON'), ('0800 697 8833 © 2020', 'DATE')]\n",
      "Entities [('13', 'CARDINAL'), ('Netflix', 'LOC'), ('National World Coronavirus Climate Change Politics Business prosper Farming Technology Sport Rugby voices &', 'ORG'), ('Travel Homed Life & Style Entertainment', 'ORG'), ('Motoring Food & Wine Oddstuff', 'ORG'), ('Auckland Waikato Bay', 'LOC'), ('Taranaki', 'PERSON'), ('bay manawatu', 'FAC'), ('Weather Quizzes Puzzles Newsletters', 'WORK_OF_ART'), ('mags4gifts', 'GPE'), ('13', 'CARDINAL'), ('Netflix', 'PRODUCT'), ('14:49', 'TIME'), ('Jun', 'PERSON'), ('13', 'CARDINAL'), ('fourth and final season', 'DATE'), ('Netflix', 'PERSON'), ('Friday', 'DATE'), ('Brian Yorkey', 'PERSON'), (\"Jay Asher's\", 'PERSON'), ('2007', 'DATE'), ('Netflix', 'ORG'), ('2017', 'DATE'), ('the first season', 'DATE'), ('Hannah Baker', 'PERSON'), ('17-year-old', 'DATE'), ('American', 'NORP'), ('2019', 'DATE'), ('Netflix', 'PERSON'), (\"the first season's\", 'DATE'), ('each season', 'DATE'), ('four', 'CARDINAL'), ('13', 'CARDINAL'), ('Netflix', 'GPE'), ('Friday', 'DATE'), ('Reviews', 'PERSON'), ('two and three', 'CARDINAL'), ('Yorkey', 'DATE'), ('13', 'CARDINAL'), ('After Life: Ricky Gervais’', 'WORK_OF_ART'), ('Mental Health Foundation', 'ORG'), ('Netflix', 'ORG'), ('13', 'CARDINAL'), ('Hannah', 'PERSON'), ('season 4', 'DATE'), ('Yorkey told Entertainment Weekly', 'WORK_OF_ART'), ('Yorkey', 'DATE'), ('seasons 1-3', 'DATE'), ('Getty Images', 'PERSON'), ('Brian Yorkey', 'PERSON'), ('Yorkey', 'WORK_OF_ART'), ('Entertainment Weekly', 'ORG'), ('Yorkey', 'WORK_OF_ART'), ('Hannah Baker', 'PERSON'), ('Kmart', 'ORG'), ('99', 'MONEY'), ('4500', 'MONEY'), ('Domino', 'ORG'), ('MasterChef Australia Wife', 'ORG'), ('Missing Matamata', 'PERSON'), ('Morning', 'TIME'), ('October 13', 'DATE'), ('Samoa', 'GPE'), ('Australia', 'GPE'), ('David Campese', 'PERSON'), ('0800 697 8833 © 2020', 'DATE')]\n",
      "Entities [('13', 'CARDINAL'), ('Netflix', 'LOC'), ('National World Coronavirus Climate Change Politics Business prosper Farming Technology Sport Rugby voices &', 'ORG'), ('Travel Homed Life & Style Entertainment', 'ORG'), ('Motoring Food & Wine Oddstuff', 'ORG'), ('Auckland Waikato Bay', 'LOC'), ('Taranaki', 'PERSON'), ('bay manawatu', 'FAC'), ('Weather Quizzes Puzzles Newsletters', 'WORK_OF_ART'), ('mags4gifts', 'GPE'), ('13', 'CARDINAL'), ('Netflix', 'PRODUCT'), ('14:49', 'TIME'), ('Jun', 'PERSON'), ('13', 'CARDINAL'), ('fourth and final season', 'DATE'), ('Netflix', 'PERSON'), ('Friday', 'DATE'), ('Brian Yorkey', 'PERSON'), (\"Jay Asher's\", 'PERSON'), ('2007', 'DATE'), ('Netflix', 'ORG'), ('2017', 'DATE'), ('the first season', 'DATE'), ('Hannah Baker', 'PERSON'), ('17-year-old', 'DATE'), ('American', 'NORP'), ('2019', 'DATE'), ('Netflix', 'PERSON'), (\"the first season's\", 'DATE'), ('each season', 'DATE'), ('four', 'CARDINAL'), ('13', 'CARDINAL'), ('Netflix', 'GPE'), ('Friday', 'DATE'), ('Reviews', 'PERSON'), ('two and three', 'CARDINAL'), ('Yorkey', 'DATE'), ('13', 'CARDINAL'), ('After Life: Ricky Gervais’', 'WORK_OF_ART'), ('Mental Health Foundation', 'ORG'), ('Netflix', 'ORG'), ('13', 'CARDINAL'), ('Hannah', 'PERSON'), ('season 4', 'DATE'), ('Yorkey told Entertainment Weekly', 'WORK_OF_ART'), ('Yorkey', 'DATE'), ('seasons 1-3', 'DATE'), ('Getty Images', 'PERSON'), ('Brian Yorkey', 'PERSON'), ('Yorkey', 'WORK_OF_ART'), ('Entertainment Weekly', 'ORG'), ('Yorkey', 'WORK_OF_ART'), ('Hannah Baker', 'PERSON'), ('Kmart', 'ORG'), ('99', 'MONEY'), ('4500', 'MONEY'), ('Domino', 'ORG'), ('MasterChef Australia Wife', 'ORG'), ('Missing Matamata', 'PERSON'), ('Morning', 'TIME'), ('October 13', 'DATE'), ('Samoa', 'GPE'), ('Australia', 'GPE'), ('David Campese', 'PERSON'), ('0800 697 8833 © 2020', 'DATE')]\n",
      "Entities [('13', 'CARDINAL'), ('Netflix', 'LOC'), ('National World Coronavirus Climate Change Politics Business prosper Farming Technology Sport Rugby voices &', 'ORG'), ('Travel Homed Life & Style Entertainment', 'ORG'), ('Motoring Food & Wine Oddstuff', 'ORG'), ('Auckland Waikato Bay', 'LOC'), ('Taranaki', 'PERSON'), ('bay manawatu', 'FAC'), ('Weather Quizzes Puzzles Newsletters', 'WORK_OF_ART'), ('mags4gifts', 'GPE'), ('13', 'CARDINAL'), ('Netflix', 'PRODUCT'), ('14:49', 'TIME'), ('Jun', 'PERSON'), ('13', 'CARDINAL'), ('fourth and final season', 'DATE'), ('Netflix', 'PERSON'), ('Friday', 'DATE'), ('Brian Yorkey', 'PERSON'), (\"Jay Asher's\", 'PERSON'), ('2007', 'DATE'), ('Netflix', 'ORG'), ('2017', 'DATE'), ('the first season', 'DATE'), ('Hannah Baker', 'PERSON'), ('17-year-old', 'DATE'), ('American', 'NORP'), ('2019', 'DATE'), ('Netflix', 'PERSON'), (\"the first season's\", 'DATE'), ('each season', 'DATE'), ('four', 'CARDINAL'), ('13', 'CARDINAL'), ('Netflix', 'GPE'), ('Friday', 'DATE'), ('Reviews', 'PERSON'), ('two and three', 'CARDINAL'), ('Yorkey', 'DATE'), ('13', 'CARDINAL'), ('After Life: Ricky Gervais’', 'WORK_OF_ART'), ('Mental Health Foundation', 'ORG'), ('Netflix', 'ORG'), ('13', 'CARDINAL'), ('Hannah', 'PERSON'), ('season 4', 'DATE'), ('Yorkey told Entertainment Weekly', 'WORK_OF_ART'), ('Yorkey', 'DATE'), ('seasons 1-3', 'DATE'), ('Getty Images', 'PERSON'), ('Brian Yorkey', 'PERSON'), ('Yorkey', 'WORK_OF_ART'), ('Entertainment Weekly', 'ORG'), ('Yorkey', 'WORK_OF_ART'), ('Hannah Baker', 'PERSON'), ('Kmart', 'ORG'), ('99', 'MONEY'), ('4500', 'MONEY'), ('Domino', 'ORG'), ('MasterChef Australia Wife', 'ORG'), ('Missing Matamata', 'PERSON'), ('Morning', 'TIME'), ('October 13', 'DATE'), ('Samoa', 'GPE'), ('Australia', 'GPE'), ('David Campese', 'PERSON'), ('0800 697 8833 © 2020', 'DATE')]\n",
      "Entities [('13', 'CARDINAL'), ('Netflix', 'LOC'), ('National World Coronavirus Climate Change Politics Business prosper Farming Technology Sport Rugby voices &', 'ORG'), ('Travel Homed Life & Style Entertainment', 'ORG'), ('Motoring Food & Wine Oddstuff', 'ORG'), ('Auckland Waikato Bay', 'LOC'), ('Taranaki', 'PERSON'), ('bay manawatu', 'FAC'), ('Weather Quizzes Puzzles Newsletters', 'WORK_OF_ART'), ('mags4gifts', 'GPE'), ('13', 'CARDINAL'), ('Netflix', 'PRODUCT'), ('14:49', 'TIME'), ('Jun', 'PERSON'), ('13', 'CARDINAL'), ('fourth and final season', 'DATE'), ('Netflix', 'PERSON'), ('Friday', 'DATE'), ('Brian Yorkey', 'PERSON'), (\"Jay Asher's\", 'PERSON'), ('2007', 'DATE'), ('Netflix', 'ORG'), ('2017', 'DATE'), ('the first season', 'DATE'), ('Hannah Baker', 'PERSON'), ('17-year-old', 'DATE'), ('American', 'NORP'), ('2019', 'DATE'), ('Netflix', 'PERSON'), (\"the first season's\", 'DATE'), ('each season', 'DATE'), ('four', 'CARDINAL'), ('13', 'CARDINAL'), ('Netflix', 'GPE'), ('Friday', 'DATE'), ('Reviews', 'PERSON'), ('two and three', 'CARDINAL'), ('Yorkey', 'DATE'), ('13', 'CARDINAL'), ('After Life: Ricky Gervais’', 'WORK_OF_ART'), ('Mental Health Foundation', 'ORG'), ('Netflix', 'ORG'), ('13', 'CARDINAL'), ('Hannah', 'PERSON'), ('season 4', 'DATE'), ('Yorkey told Entertainment Weekly', 'WORK_OF_ART'), ('Yorkey', 'DATE'), ('seasons 1-3', 'DATE'), ('Getty Images', 'PERSON'), ('Brian Yorkey', 'PERSON'), ('Yorkey', 'WORK_OF_ART'), ('Entertainment Weekly', 'ORG'), ('Yorkey', 'WORK_OF_ART'), ('Hannah Baker', 'PERSON'), ('Kmart', 'ORG'), ('99', 'MONEY'), ('4500', 'MONEY'), ('Domino', 'ORG'), ('MasterChef Australia Wife', 'ORG'), ('Missing Matamata', 'PERSON'), ('Morning', 'TIME'), ('October 13', 'DATE'), ('Samoa', 'GPE'), ('Australia', 'GPE'), ('David Campese', 'PERSON'), ('0800 697 8833 © 2020', 'DATE')]\n",
      "Entities [('13', 'CARDINAL'), ('Netflix', 'LOC'), ('National World Coronavirus Climate Change Politics Business prosper Farming Technology Sport Rugby voices &', 'ORG'), ('Travel Homed Life & Style Entertainment', 'ORG'), ('Motoring Food & Wine Oddstuff', 'ORG'), ('Auckland Waikato Bay', 'LOC'), ('Taranaki', 'PERSON'), ('bay manawatu', 'FAC'), ('Weather Quizzes Puzzles Newsletters', 'WORK_OF_ART'), ('mags4gifts', 'GPE'), ('13', 'CARDINAL'), ('Netflix', 'PRODUCT'), ('14:49', 'TIME'), ('Jun', 'PERSON'), ('13', 'CARDINAL'), ('fourth and final season', 'DATE'), ('Netflix', 'PERSON'), ('Friday', 'DATE'), ('Brian Yorkey', 'PERSON'), (\"Jay Asher's\", 'PERSON'), ('2007', 'DATE'), ('Netflix', 'ORG'), ('2017', 'DATE'), ('the first season', 'DATE'), ('Hannah Baker', 'PERSON'), ('17-year-old', 'DATE'), ('American', 'NORP'), ('2019', 'DATE'), ('Netflix', 'PERSON'), (\"the first season's\", 'DATE'), ('each season', 'DATE'), ('four', 'CARDINAL'), ('13', 'CARDINAL'), ('Netflix', 'GPE'), ('Friday', 'DATE'), ('Reviews', 'PERSON'), ('two and three', 'CARDINAL'), ('Yorkey', 'DATE'), ('13', 'CARDINAL'), ('After Life: Ricky Gervais’', 'WORK_OF_ART'), ('Mental Health Foundation', 'ORG'), ('Netflix', 'ORG'), ('13', 'CARDINAL'), ('Hannah', 'PERSON'), ('season 4', 'DATE'), ('Yorkey told Entertainment Weekly', 'WORK_OF_ART'), ('Yorkey', 'DATE'), ('seasons 1-3', 'DATE'), ('Getty Images', 'PERSON'), ('Brian Yorkey', 'PERSON'), ('Yorkey', 'WORK_OF_ART'), ('Entertainment Weekly', 'ORG'), ('Yorkey', 'WORK_OF_ART'), ('Hannah Baker', 'PERSON'), ('Kmart', 'ORG'), ('99', 'MONEY'), ('4500', 'MONEY'), ('Domino', 'ORG'), ('MasterChef Australia Wife', 'ORG'), ('Missing Matamata', 'PERSON'), ('Morning', 'TIME'), ('October 13', 'DATE'), ('Samoa', 'GPE'), ('Australia', 'GPE'), ('David Campese', 'PERSON'), ('0800 697 8833 © 2020', 'DATE')]\n",
      "Entities [('13', 'CARDINAL'), ('Netflix', 'LOC'), ('National World Coronavirus Climate Change Politics Business prosper Farming Technology Sport Rugby voices &', 'ORG'), ('Travel Homed Life & Style Entertainment', 'ORG'), ('Motoring Food & Wine Oddstuff', 'ORG'), ('Auckland Waikato Bay', 'LOC'), ('Taranaki', 'PERSON'), ('bay manawatu', 'FAC'), ('Weather Quizzes Puzzles Newsletters', 'WORK_OF_ART'), ('mags4gifts', 'GPE'), ('13', 'CARDINAL'), ('Netflix', 'PRODUCT'), ('14:49', 'TIME'), ('Jun', 'PERSON'), ('13', 'CARDINAL'), ('fourth and final season', 'DATE'), ('Netflix', 'PERSON'), ('Friday', 'DATE'), ('Brian Yorkey', 'PERSON'), (\"Jay Asher's\", 'PERSON'), ('2007', 'DATE'), ('Netflix', 'ORG'), ('2017', 'DATE'), ('the first season', 'DATE'), ('Hannah Baker', 'PERSON'), ('17-year-old', 'DATE'), ('American', 'NORP'), ('2019', 'DATE'), ('Netflix', 'PERSON'), (\"the first season's\", 'DATE'), ('each season', 'DATE'), ('four', 'CARDINAL'), ('13', 'CARDINAL'), ('Netflix', 'GPE'), ('Friday', 'DATE'), ('Reviews', 'PERSON'), ('two and three', 'CARDINAL'), ('Yorkey', 'DATE'), ('13', 'CARDINAL'), ('After Life: Ricky Gervais’', 'WORK_OF_ART'), ('Mental Health Foundation', 'ORG'), ('Netflix', 'ORG'), ('13', 'CARDINAL'), ('Hannah', 'PERSON'), ('season 4', 'DATE'), ('Yorkey told Entertainment Weekly', 'WORK_OF_ART'), ('Yorkey', 'DATE'), ('seasons 1-3', 'DATE'), ('Getty Images', 'PERSON'), ('Brian Yorkey', 'PERSON'), ('Yorkey', 'WORK_OF_ART'), ('Entertainment Weekly', 'ORG'), ('Yorkey', 'WORK_OF_ART'), ('Hannah Baker', 'PERSON'), ('Kmart', 'ORG'), ('99', 'MONEY'), ('4500', 'MONEY'), ('Domino', 'ORG'), ('MasterChef Australia Wife', 'ORG'), ('Missing Matamata', 'PERSON'), ('Morning', 'TIME'), ('October 13', 'DATE'), ('Samoa', 'GPE'), ('Australia', 'GPE'), ('David Campese', 'PERSON'), ('0800 697 8833 © 2020', 'DATE')]\n",
      "Entities [('13', 'CARDINAL'), ('Netflix', 'LOC'), ('National World Coronavirus Climate Change Politics Business prosper Farming Technology Sport Rugby voices &', 'ORG'), ('Travel Homed Life & Style Entertainment', 'ORG'), ('Motoring Food & Wine Oddstuff', 'ORG'), ('Auckland Waikato Bay', 'LOC'), ('Taranaki', 'PERSON'), ('bay manawatu', 'FAC'), ('Weather Quizzes Puzzles Newsletters', 'WORK_OF_ART'), ('mags4gifts', 'GPE'), ('13', 'CARDINAL'), ('Netflix', 'PRODUCT'), ('14:49', 'TIME'), ('Jun', 'PERSON'), ('13', 'CARDINAL'), ('fourth and final season', 'DATE'), ('Netflix', 'PERSON'), ('Friday', 'DATE'), ('Brian Yorkey', 'PERSON'), (\"Jay Asher's\", 'PERSON'), ('2007', 'DATE'), ('Netflix', 'ORG'), ('2017', 'DATE'), ('the first season', 'DATE'), ('Hannah Baker', 'PERSON'), ('17-year-old', 'DATE'), ('American', 'NORP'), ('2019', 'DATE'), ('Netflix', 'PERSON'), (\"the first season's\", 'DATE'), ('each season', 'DATE'), ('four', 'CARDINAL'), ('13', 'CARDINAL'), ('Netflix', 'GPE'), ('Friday', 'DATE'), ('Reviews', 'PERSON'), ('two and three', 'CARDINAL'), ('Yorkey', 'DATE'), ('13', 'CARDINAL'), ('After Life: Ricky Gervais’', 'WORK_OF_ART'), ('Mental Health Foundation', 'ORG'), ('Netflix', 'ORG'), ('13', 'CARDINAL'), ('Hannah', 'PERSON'), ('season 4', 'DATE'), ('Yorkey told Entertainment Weekly', 'WORK_OF_ART'), ('Yorkey', 'DATE'), ('seasons 1-3', 'DATE'), ('Getty Images', 'PERSON'), ('Brian Yorkey', 'PERSON'), ('Yorkey', 'WORK_OF_ART'), ('Entertainment Weekly', 'ORG'), ('Yorkey', 'WORK_OF_ART'), ('Hannah Baker', 'PERSON'), ('Kmart', 'ORG'), ('99', 'MONEY'), ('4500', 'MONEY'), ('Domino', 'ORG'), ('MasterChef Australia Wife', 'ORG'), ('Missing Matamata', 'PERSON'), ('Morning', 'TIME'), ('October 13', 'DATE'), ('Samoa', 'GPE'), ('Australia', 'GPE'), ('David Campese', 'PERSON'), ('0800 697 8833 © 2020', 'DATE')]\n",
      "Entities [('13', 'CARDINAL'), ('Netflix', 'LOC'), ('National World Coronavirus Climate Change Politics Business prosper Farming Technology Sport Rugby voices &', 'ORG'), ('Travel Homed Life & Style Entertainment', 'ORG'), ('Motoring Food & Wine Oddstuff', 'ORG'), ('Auckland Waikato Bay', 'LOC'), ('Taranaki', 'PERSON'), ('bay manawatu', 'FAC'), ('Weather Quizzes Puzzles Newsletters', 'WORK_OF_ART'), ('mags4gifts', 'GPE'), ('13', 'CARDINAL'), ('Netflix', 'PRODUCT'), ('14:49', 'TIME'), ('Jun', 'PERSON'), ('13', 'CARDINAL'), ('fourth and final season', 'DATE'), ('Netflix', 'PERSON'), ('Friday', 'DATE'), ('Brian Yorkey', 'PERSON'), (\"Jay Asher's\", 'PERSON'), ('2007', 'DATE'), ('Netflix', 'ORG'), ('2017', 'DATE'), ('the first season', 'DATE'), ('Hannah Baker', 'PERSON'), ('17-year-old', 'DATE'), ('American', 'NORP'), ('2019', 'DATE'), ('Netflix', 'PERSON'), (\"the first season's\", 'DATE'), ('each season', 'DATE'), ('four', 'CARDINAL'), ('13', 'CARDINAL'), ('Netflix', 'GPE'), ('Friday', 'DATE'), ('Reviews', 'PERSON'), ('two and three', 'CARDINAL'), ('Yorkey', 'DATE'), ('13', 'CARDINAL'), ('After Life: Ricky Gervais’', 'WORK_OF_ART'), ('Mental Health Foundation', 'ORG'), ('Netflix', 'ORG'), ('13', 'CARDINAL'), ('Hannah', 'PERSON'), ('season 4', 'DATE'), ('Yorkey told Entertainment Weekly', 'WORK_OF_ART'), ('Yorkey', 'DATE'), ('seasons 1-3', 'DATE'), ('Getty Images', 'PERSON'), ('Brian Yorkey', 'PERSON'), ('Yorkey', 'WORK_OF_ART'), ('Entertainment Weekly', 'ORG'), ('Yorkey', 'WORK_OF_ART'), ('Hannah Baker', 'PERSON'), ('Kmart', 'ORG'), ('99', 'MONEY'), ('4500', 'MONEY'), ('Domino', 'ORG'), ('MasterChef Australia Wife', 'ORG'), ('Missing Matamata', 'PERSON'), ('Morning', 'TIME'), ('October 13', 'DATE'), ('Samoa', 'GPE'), ('Australia', 'GPE'), ('David Campese', 'PERSON'), ('0800 697 8833 © 2020', 'DATE')]\n",
      "Entities [('13', 'CARDINAL'), ('Netflix', 'LOC'), ('National World Coronavirus Climate Change Politics Business prosper Farming Technology Sport Rugby voices &', 'ORG'), ('Travel Homed Life & Style Entertainment', 'ORG'), ('Motoring Food & Wine Oddstuff', 'ORG'), ('Auckland Waikato Bay', 'LOC'), ('Taranaki', 'PERSON'), ('bay manawatu', 'FAC'), ('Weather Quizzes Puzzles Newsletters', 'WORK_OF_ART'), ('mags4gifts', 'GPE'), ('13', 'CARDINAL'), ('Netflix', 'PRODUCT'), ('14:49', 'TIME'), ('Jun', 'PERSON'), ('13', 'CARDINAL'), ('fourth and final season', 'DATE'), ('Netflix', 'PERSON'), ('Friday', 'DATE'), ('Brian Yorkey', 'PERSON'), (\"Jay Asher's\", 'PERSON'), ('2007', 'DATE'), ('Netflix', 'ORG'), ('2017', 'DATE'), ('the first season', 'DATE'), ('Hannah Baker', 'PERSON'), ('17-year-old', 'DATE'), ('American', 'NORP'), ('2019', 'DATE'), ('Netflix', 'PERSON'), (\"the first season's\", 'DATE'), ('each season', 'DATE'), ('four', 'CARDINAL'), ('13', 'CARDINAL'), ('Netflix', 'GPE'), ('Friday', 'DATE'), ('Reviews', 'PERSON'), ('two and three', 'CARDINAL'), ('Yorkey', 'DATE'), ('13', 'CARDINAL'), ('After Life: Ricky Gervais’', 'WORK_OF_ART'), ('Mental Health Foundation', 'ORG'), ('Netflix', 'ORG'), ('13', 'CARDINAL'), ('Hannah', 'PERSON'), ('season 4', 'DATE'), ('Yorkey told Entertainment Weekly', 'WORK_OF_ART'), ('Yorkey', 'DATE'), ('seasons 1-3', 'DATE'), ('Getty Images', 'PERSON'), ('Brian Yorkey', 'PERSON'), ('Yorkey', 'WORK_OF_ART'), ('Entertainment Weekly', 'ORG'), ('Yorkey', 'WORK_OF_ART'), ('Hannah Baker', 'PERSON'), ('Kmart', 'ORG'), ('99', 'MONEY'), ('4500', 'MONEY'), ('Domino', 'ORG'), ('MasterChef Australia Wife', 'ORG'), ('Missing Matamata', 'PERSON'), ('Morning', 'TIME'), ('October 13', 'DATE'), ('Samoa', 'GPE'), ('Australia', 'GPE'), ('David Campese', 'PERSON'), ('0800 697 8833 © 2020', 'DATE')]\n",
      "Entities [('13', 'CARDINAL'), ('Netflix', 'LOC'), ('National World Coronavirus Climate Change Politics Business prosper Farming Technology Sport Rugby voices &', 'ORG'), ('Travel Homed Life & Style Entertainment', 'ORG'), ('Motoring Food & Wine Oddstuff', 'ORG'), ('Auckland Waikato Bay', 'LOC'), ('Taranaki', 'PERSON'), ('bay manawatu', 'FAC'), ('Weather Quizzes Puzzles Newsletters', 'WORK_OF_ART'), ('mags4gifts', 'GPE'), ('13', 'CARDINAL'), ('Netflix', 'PRODUCT'), ('14:49', 'TIME'), ('Jun', 'PERSON'), ('13', 'CARDINAL'), ('fourth and final season', 'DATE'), ('Netflix', 'PERSON'), ('Friday', 'DATE'), ('Brian Yorkey', 'PERSON'), (\"Jay Asher's\", 'PERSON'), ('2007', 'DATE'), ('Netflix', 'ORG'), ('2017', 'DATE'), ('the first season', 'DATE'), ('Hannah Baker', 'PERSON'), ('17-year-old', 'DATE'), ('American', 'NORP'), ('2019', 'DATE'), ('Netflix', 'PERSON'), (\"the first season's\", 'DATE'), ('each season', 'DATE'), ('four', 'CARDINAL'), ('13', 'CARDINAL'), ('Netflix', 'GPE'), ('Friday', 'DATE'), ('Reviews', 'PERSON'), ('two and three', 'CARDINAL'), ('Yorkey', 'DATE'), ('13', 'CARDINAL'), ('After Life: Ricky Gervais’', 'WORK_OF_ART'), ('Mental Health Foundation', 'ORG'), ('Netflix', 'ORG'), ('13', 'CARDINAL'), ('Hannah', 'PERSON'), ('season 4', 'DATE'), ('Yorkey told Entertainment Weekly', 'WORK_OF_ART'), ('Yorkey', 'DATE'), ('seasons 1-3', 'DATE'), ('Getty Images', 'PERSON'), ('Brian Yorkey', 'PERSON'), ('Yorkey', 'WORK_OF_ART'), ('Entertainment Weekly', 'ORG'), ('Yorkey', 'WORK_OF_ART'), ('Hannah Baker', 'PERSON'), ('Kmart', 'ORG'), ('99', 'MONEY'), ('4500', 'MONEY'), ('Domino', 'ORG'), ('MasterChef Australia Wife', 'ORG'), ('Missing Matamata', 'PERSON'), ('Morning', 'TIME'), ('October 13', 'DATE'), ('Samoa', 'GPE'), ('Australia', 'GPE'), ('David Campese', 'PERSON'), ('0800 697 8833 © 2020', 'DATE')]\n",
      "Entities [('13', 'CARDINAL'), ('Netflix', 'LOC'), ('National World Coronavirus Climate Change Politics Business prosper Farming Technology Sport Rugby voices &', 'ORG'), ('Travel Homed Life & Style Entertainment', 'ORG'), ('Motoring Food & Wine Oddstuff', 'ORG'), ('Auckland Waikato Bay', 'LOC'), ('Taranaki', 'PERSON'), ('bay manawatu', 'FAC'), ('Weather Quizzes Puzzles Newsletters', 'WORK_OF_ART'), ('mags4gifts', 'GPE'), ('13', 'CARDINAL'), ('Netflix', 'PRODUCT'), ('14:49', 'TIME'), ('Jun', 'PERSON'), ('13', 'CARDINAL'), ('fourth and final season', 'DATE'), ('Netflix', 'PERSON'), ('Friday', 'DATE'), ('Brian Yorkey', 'PERSON'), (\"Jay Asher's\", 'PERSON'), ('2007', 'DATE'), ('Netflix', 'ORG'), ('2017', 'DATE'), ('the first season', 'DATE'), ('Hannah Baker', 'PERSON'), ('17-year-old', 'DATE'), ('American', 'NORP'), ('2019', 'DATE'), ('Netflix', 'PERSON'), (\"the first season's\", 'DATE'), ('each season', 'DATE'), ('four', 'CARDINAL'), ('13', 'CARDINAL'), ('Netflix', 'GPE'), ('Friday', 'DATE'), ('Reviews', 'PERSON'), ('two and three', 'CARDINAL'), ('Yorkey', 'DATE'), ('13', 'CARDINAL'), ('After Life: Ricky Gervais’', 'WORK_OF_ART'), ('Mental Health Foundation', 'ORG'), ('Netflix', 'ORG'), ('13', 'CARDINAL'), ('Hannah', 'PERSON'), ('season 4', 'DATE'), ('Yorkey told Entertainment Weekly', 'WORK_OF_ART'), ('Yorkey', 'DATE'), ('seasons 1-3', 'DATE'), ('Getty Images', 'PERSON'), ('Brian Yorkey', 'PERSON'), ('Yorkey', 'WORK_OF_ART'), ('Entertainment Weekly', 'ORG'), ('Yorkey', 'WORK_OF_ART'), ('Hannah Baker', 'PERSON'), ('Kmart', 'ORG'), ('99', 'MONEY'), ('4500', 'MONEY'), ('Domino', 'ORG'), ('MasterChef Australia Wife', 'ORG'), ('Missing Matamata', 'PERSON'), ('Morning', 'TIME'), ('October 13', 'DATE'), ('Samoa', 'GPE'), ('Australia', 'GPE'), ('David Campese', 'PERSON'), ('0800 697 8833 © 2020', 'DATE')]\n",
      "Entities [('13', 'CARDINAL'), ('Netflix', 'LOC'), ('National World Coronavirus Climate Change Politics Business prosper Farming Technology Sport Rugby voices &', 'ORG'), ('Travel Homed Life & Style Entertainment', 'ORG'), ('Motoring Food & Wine Oddstuff', 'ORG'), ('Auckland Waikato Bay', 'LOC'), ('Taranaki', 'PERSON'), ('bay manawatu', 'FAC'), ('Weather Quizzes Puzzles Newsletters', 'WORK_OF_ART'), ('mags4gifts', 'GPE'), ('13', 'CARDINAL'), ('Netflix', 'PRODUCT'), ('14:49', 'TIME'), ('Jun', 'PERSON'), ('13', 'CARDINAL'), ('fourth and final season', 'DATE'), ('Netflix', 'PERSON'), ('Friday', 'DATE'), ('Brian Yorkey', 'PERSON'), (\"Jay Asher's\", 'PERSON'), ('2007', 'DATE'), ('Netflix', 'ORG'), ('2017', 'DATE'), ('the first season', 'DATE'), ('Hannah Baker', 'PERSON'), ('17-year-old', 'DATE'), ('American', 'NORP'), ('2019', 'DATE'), ('Netflix', 'PERSON'), (\"the first season's\", 'DATE'), ('each season', 'DATE'), ('four', 'CARDINAL'), ('13', 'CARDINAL'), ('Netflix', 'GPE'), ('Friday', 'DATE'), ('Reviews', 'PERSON'), ('two and three', 'CARDINAL'), ('Yorkey', 'DATE'), ('13', 'CARDINAL'), ('After Life: Ricky Gervais’', 'WORK_OF_ART'), ('Mental Health Foundation', 'ORG'), ('Netflix', 'ORG'), ('13', 'CARDINAL'), ('Hannah', 'PERSON'), ('season 4', 'DATE'), ('Yorkey told Entertainment Weekly', 'WORK_OF_ART'), ('Yorkey', 'DATE'), ('seasons 1-3', 'DATE'), ('Getty Images', 'PERSON'), ('Brian Yorkey', 'PERSON'), ('Yorkey', 'WORK_OF_ART'), ('Entertainment Weekly', 'ORG'), ('Yorkey', 'WORK_OF_ART'), ('Hannah Baker', 'PERSON'), ('Kmart', 'ORG'), ('99', 'MONEY'), ('4500', 'MONEY'), ('Domino', 'ORG'), ('MasterChef Australia Wife', 'ORG'), ('Missing Matamata', 'PERSON'), ('Morning', 'TIME'), ('October 13', 'DATE'), ('Samoa', 'GPE'), ('Australia', 'GPE'), ('David Campese', 'PERSON'), ('0800 697 8833 © 2020', 'DATE')]\n"
     ]
    }
   ],
   "source": [
    "# test the trained model\n",
    "for text, _ in TRAIN_DATA:\n",
    "    doc = nlp(text2)\n",
    "    print(\"Entities\", [(ent.text, ent.label_) for ent in doc.ents])\n",
    "#    print(\"Tokens\", [(t.text, t.ent_type_, t.ent_iob) for t in doc])"
   ]
  },
  {
   "cell_type": "code",
   "execution_count": null,
   "metadata": {},
   "outputs": [],
   "source": []
  }
 ],
 "metadata": {
  "kernelspec": {
   "display_name": "Python 3",
   "language": "python",
   "name": "python3"
  },
  "language_info": {
   "codemirror_mode": {
    "name": "ipython",
    "version": 3
   },
   "file_extension": ".py",
   "mimetype": "text/x-python",
   "name": "python",
   "nbconvert_exporter": "python",
   "pygments_lexer": "ipython3",
   "version": "3.7.4"
  }
 },
 "nbformat": 4,
 "nbformat_minor": 4
}
